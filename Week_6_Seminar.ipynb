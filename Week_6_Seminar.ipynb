{
  "cells": [
    {
      "cell_type": "markdown",
      "metadata": {
        "id": "view-in-github",
        "colab_type": "text"
      },
      "source": [
        "<a href=\"https://colab.research.google.com/github/KatharinaGardens/computational-linguistics.github.io/blob/Week-6/Week_6_Seminar.ipynb\" target=\"_parent\"><img src=\"https://colab.research.google.com/assets/colab-badge.svg\" alt=\"Open In Colab\"/></a>"
      ]
    },
    {
      "cell_type": "markdown",
      "metadata": {
        "id": "RByeKCfdaSZ7"
      },
      "source": [
        "# LELA32052 Computational Linguistics Week 6\n",
        "\n",
        "This week we are going to a) take a look at multiclass classification and b)explore a few different neural network structures for handling sequences - sentences and sequences of letters. Our focus will be on classifying (applying a single label to a sequence) but we will also look briefly at generation."
      ]
    },
    {
      "cell_type": "markdown",
      "source": [
        "### Multiclass classification problems\n",
        "\n",
        "While logistic regression is great for binary classification tasks, many classification problems have more than two possible outcomes.  We can simulate such a situation as follows. I have just generalised sentiment analysis to a three class problem - negative, neutral and positive.\n",
        "\n"
      ],
      "metadata": {
        "id": "58xkbBkUzkVW"
      }
    },
    {
      "cell_type": "code",
      "source": [
        "import numpy as np\n",
        "import matplotlib.pyplot as plt\n",
        "\n",
        "## Create simulated data\n",
        "np.random.seed(10)\n",
        "w1_center = (1, 3)\n",
        "w2_center = (3, 1)\n",
        "w3_center = (1, 1)\n",
        "w4_center = (3, 3)\n",
        "\n",
        "x=np.concatenate((np.random.normal(loc=w1_center,size=(20,2)),np.random.normal(loc=w2_center,size=(20,2)),np.random.normal(loc=w3_center,size=(10,2)),np.random.normal(loc=w4_center,size=(10,2))))\n",
        "labs=np.repeat([0,1,2],[20,20,20],axis=0)\n",
        "y=np.repeat(np.diag((1,1,1)),[20,20,20],axis=0)\n",
        "x=x.T\n",
        "y=y.T"
      ],
      "metadata": {
        "id": "k-yx9h_40DIl"
      },
      "execution_count": 1,
      "outputs": []
    },
    {
      "cell_type": "code",
      "source": [
        "plt.scatter(x[0][labs==0], x[1][labs==0], marker='*', s=100, color = 'hotpink')\n",
        "plt.scatter(x[0][labs==1], x[1][labs==1], marker='o', s=100, color = 'cornflowerblue')\n",
        "plt.scatter(x[0][labs==2], x[1][labs==2], marker='x', s=100, color = 'gold')\n",
        "plt.xlabel(\"log count of negative words\")\n",
        "plt.ylabel(\"log count of positive words\")\n",
        "plt.xlim((0,5))\n",
        "plt.ylim((0,5))\n"
      ],
      "metadata": {
        "id": "I3japJAV50NE",
        "outputId": "ffe2b17d-478a-4d0c-b8fd-7b1d3c5251a0",
        "colab": {
          "base_uri": "https://localhost:8080/",
          "height": 472
        }
      },
      "execution_count": 13,
      "outputs": [
        {
          "output_type": "execute_result",
          "data": {
            "text/plain": [
              "(0.0, 5.0)"
            ]
          },
          "metadata": {},
          "execution_count": 13
        },
        {
          "output_type": "display_data",
          "data": {
            "text/plain": [
              "<Figure size 640x480 with 1 Axes>"
            ],
            "image/png": "[encoded data removed]"
          },
          "metadata": {}
        }
      ]
    },
    {
      "cell_type": "markdown",
      "source": [
        "\n",
        "### Softmax\n",
        "In such circumstances we need to use multinomial logistic (aka softmax) regression.\n",
        "\n",
        "In logistic regression we take the dot product between our feature vector for each data point and our weight vector. We then add the bias to give us a single z value which we feed through the sigmoid function. We can have only one z values because there are only two outcomes and the following relationship holds:\n",
        "p(y=0|x) = 1-p(y=1|x)\n",
        "\n",
        "In multinomial regression we instead have a z value for each of our possible outcomes. We can use these collectively to calculate probabilties for each of our possible outcomes. For example if we had three possible outcomes, 0, 1 or 2 then we would calculate their probabilities as follows:\n",
        "\n",
        "$p(y=0|x) = \\frac{exp(z_{0})}{\\sum_{i,N} exp(z_i)}$ \\\\\n",
        "$p(y=1|x) = \\frac{exp(z_{1})}{\\sum_{i,N} exp(z_i)}$ \\\\\n",
        "$p(y=2|x) = \\frac{exp(z_{2})}{\\sum_{i,N} exp(z_i)}$ \\\\\n"
      ],
      "metadata": {
        "id": "v6QacNfX8TPj"
      }
    },
    {
      "cell_type": "code",
      "source": [
        "np.random.seed(10)\n",
        "n_iters = 2500\n",
        "num_features=2\n",
        "num_classes=3\n",
        "num_samples = len(y[0])\n",
        "weights = np.random.rand(num_classes,num_features)\n",
        "bias=np.zeros(num_classes)\n",
        "lr=0.1\n",
        "logistic_loss=[]\n",
        "z=np.zeros((num_samples,num_classes))\n",
        "q=np.zeros((num_samples,num_classes))\n",
        "\n",
        "for i in range(n_iters):\n",
        "    z[:,0]=x[0]*weights[0,0] + x[1]*weights[0,1] + bias[0]\n",
        "    z[:,1]=x[0]*weights[1,0] + x[1]*weights[1,1] + bias[1]\n",
        "    z[:,2]=x[0]*weights[2,0] + x[1]*weights[2,1] + bias[2]\n",
        "\n",
        "    q[:,0] = np.exp(z[:,0])/np.exp(z).sum(axis=1)\n",
        "    q[:,1] = np.exp(z[:,1])/np.exp(z).sum(axis=1)\n",
        "    q[:,2] = np.exp(z[:,2])/np.exp(z).sum(axis=1)\n",
        "\n",
        "    loss = sum(-(y[0]*np.log2(q[:,0])+(1-y[0])*np.log2(1-q[:,0])))/num_samples\n",
        "    loss += sum(-(y[1]*np.log2(q[:,1])+(1-y[1])*np.log2(1-q[:,1])))/num_samples\n",
        "    loss += sum(-(y[2]*np.log2(q[:,2])+(1-y[2])*np.log2(1-q[:,2])))/num_samples\n",
        "    logistic_loss.append(loss)\n",
        "\n",
        "    dw01 = sum(x[0]*(q[:,0]-y[0]))/num_samples # derivative with regards to weight 1 for outcome 0\n",
        "    dw02 = sum(x[1]*(q[:,0]-y[0]))/num_samples # derivative with regards to weight 2 for outcome 0\n",
        "\n",
        "    dw11 = sum(x[0]*(q[:,1]-y[1]))/num_samples # derivative with regards to weight 1 for outcome 1\n",
        "    dw12 = sum(x[1]*(q[:,1]-y[1]))/num_samples # derivative with regards to weight 2 for outcome 1\n",
        "\n",
        "    dw21 = sum(x[0]*(q[:,2]-y[2]))/num_samples # derivative with regards to weight 1 for outcome 2\n",
        "    dw22 = sum(x[1]*(q[:,2]-y[2]))/num_samples # derivative with regards to weight 2 for outcome 2\n",
        "\n",
        "    db0 = sum(q[:,0]-y[0])/num_samples # derivative with regards to bias for outcome 0\n",
        "    db1 = sum(q[:,1]-y[1])/num_samples # derivative with regards to bias for outcome 1\n",
        "    db2 = sum(q[:,2]-y[2])/num_samples # derivative with regards to bias for outcome 2\n",
        "\n",
        "    weights[0,0] = weights[0,0] - dw01*lr\n",
        "    weights[0,1] = weights[0,1] - dw02*lr\n",
        "\n",
        "    weights[1,0] = weights[1,0] - dw11*lr\n",
        "    weights[1,1] = weights[1,1] - dw12*lr\n",
        "\n",
        "    weights[2,0] = weights[2,0] - dw21*lr\n",
        "    weights[2,1] = weights[2,1] - dw22*lr\n",
        "\n",
        "    bias[0] = bias[0] - db0*lr\n",
        "    bias[1] = bias[1] - db1*lr\n",
        "    bias[2] = bias[2] - db2*lr\n",
        "\n",
        "plt.plot(range(1,n_iters),logistic_loss[1:])\n",
        "plt.xlabel(\"number of epochs\")\n",
        "plt.ylabel(\"loss\")"
      ],
      "metadata": {
        "id": "mtUjZzhE60CO",
        "outputId": "9334f940-266c-49f3-a83c-38a0b5246175",
        "colab": {
          "base_uri": "https://localhost:8080/",
          "height": 466
        }
      },
      "execution_count": 14,
      "outputs": [
        {
          "output_type": "execute_result",
          "data": {
            "text/plain": [
              "Text(0, 0.5, 'loss')"
            ]
          },
          "metadata": {},
          "execution_count": 14
        },
        {
          "output_type": "display_data",
          "data": {
            "text/plain": [
              "<Figure size 640x480 with 1 Axes>"
            ],
            "image/png": "[encoded data removed]"
          },
          "metadata": {}
        }
      ]
    },
    {
      "cell_type": "markdown",
      "source": [
        "### Comparing model predictions to real data"
      ],
      "metadata": {
        "id": "NLZ7DdV_5Vca"
      }
    },
    {
      "cell_type": "code",
      "source": [
        "plt.scatter(x[0][labs==0], x[1][labs==0], marker='*', s=100)\n",
        "plt.scatter(x[0][labs==1], x[1][labs==1], marker='o', s=100)\n",
        "plt.scatter(x[0][labs==2], x[1][labs==2], marker='x', s=100)\n",
        "plt.xlabel(\"log count of negative words\")\n",
        "plt.ylabel(\"log count of positive words\")\n",
        "plt.xlim((0,5))\n",
        "plt.ylim((0,5))\n"
      ],
      "metadata": {
        "id": "gp3guPtYqHDD",
        "outputId": "47f70233-c477-4832-8551-9fa6266274fc",
        "colab": {
          "base_uri": "https://localhost:8080/",
          "height": 472
        }
      },
      "execution_count": 15,
      "outputs": [
        {
          "output_type": "execute_result",
          "data": {
            "text/plain": [
              "(0.0, 5.0)"
            ]
          },
          "metadata": {},
          "execution_count": 15
        },
        {
          "output_type": "display_data",
          "data": {
            "text/plain": [
              "<Figure size 640x480 with 1 Axes>"
            ],
            "image/png": "[encoded data removed]"
          },
          "metadata": {}
        }
      ]
    },
    {
      "cell_type": "code",
      "source": [
        "labs=np.array([np.argmax(i) for i in q])\n",
        "plt.scatter(x[0][labs==0], x[1][labs==0], marker='*', s=100)\n",
        "plt.scatter(x[0][labs==1], x[1][labs==1], marker='o', s=100)\n",
        "plt.scatter(x[0][labs==2], x[1][labs==2], marker='x', s=100)\n",
        "plt.xlabel(\"log count of negative words\")\n",
        "plt.ylabel(\"log count of positive words\")\n",
        "plt.xlim((0,5))\n",
        "plt.ylim((0,5))"
      ],
      "metadata": {
        "id": "Gznq1cKn5Taq",
        "outputId": "66ede71a-4b34-4a4a-d5c4-2157b28c62c4",
        "colab": {
          "base_uri": "https://localhost:8080/",
          "height": 472
        }
      },
      "execution_count": 16,
      "outputs": [
        {
          "output_type": "execute_result",
          "data": {
            "text/plain": [
              "(0.0, 5.0)"
            ]
          },
          "metadata": {},
          "execution_count": 16
        },
        {
          "output_type": "display_data",
          "data": {
            "text/plain": [
              "<Figure size 640x480 with 1 Axes>"
            ],
            "image/png": "[encoded data removed]"
          },
          "metadata": {}
        }
      ]
    },
    {
      "cell_type": "markdown",
      "source": [
        "### Calculate accuracy for our multiclass classifier"
      ],
      "metadata": {
        "id": "rNII8LyUvjH9"
      }
    },
    {
      "cell_type": "code",
      "source": [
        "np.mean([int(np.argmax(x) == np.argmax(y.T[i]))  for i,x in enumerate(q)])"
      ],
      "metadata": {
        "id": "HOddLo0SyNyj",
        "outputId": "af7ec243-72af-4b3b-9a76-ed59e8a32822",
        "colab": {
          "base_uri": "https://localhost:8080/"
        }
      },
      "execution_count": 17,
      "outputs": [
        {
          "output_type": "execute_result",
          "data": {
            "text/plain": [
              "0.7"
            ]
          },
          "metadata": {},
          "execution_count": 17
        }
      ]
    },
    {
      "cell_type": "markdown",
      "source": [
        "# Multiclass classification with a real dataset"
      ],
      "metadata": {
        "id": "6LKW2ZpPz24f"
      }
    },
    {
      "cell_type": "markdown",
      "metadata": {
        "id": "zMpDGWm25RkV"
      },
      "source": [
        "### Classifying surnames\n",
        "\n",
        "The dataset we are going to work with today consists of 10,000 surnames, labelled with 18 different nationalities. Our first tasks will be to learn a classifier that can accurately assign a label to previously unseen surnames (note: the task is inherently very noisy). Later we will look at generating surnames. The dataset is split into 70% training data (from which we learn our network weights), 15% validation (which we use to evaluate and tune our network weights) and 15% test (which we use to quantitatively evaluate performance).\n",
        "\n",
        "A critical difference between last week's task (assigning positive or negative sentiment) and this weeks is that instead of two output classes, we now have 18. The only change we need to make is to the function applied to the output layer. Whereas before we had a single node in the output layer where we added up the weights and applied the sigmoid function to generate a probability of a positive label (and then we just subtract this value from 1 to give the probability of a negative label), now we have as many nodes as we have outcome labels and we generate a probability for each by applying the \"softmax\" function."
      ]
    },
    {
      "cell_type": "code",
      "execution_count": 18,
      "metadata": {
        "id": "v-HbCEVc3JoA"
      },
      "outputs": [],
      "source": [
        "#from google.colab import drive\n",
        "#drive.mount(\"/content/gdrive\")\n",
        "#!mkdir /content/gdrive/My\\ Drive/CL_Week_5_Materials/"
      ]
    },
    {
      "cell_type": "code",
      "execution_count": 19,
      "metadata": {
        "id": "x1U85sASKSul",
        "outputId": "545c248a-8a7b-48fc-a29a-d54f02eefcf7",
        "colab": {
          "base_uri": "https://localhost:8080/"
        }
      },
      "outputs": [
        {
          "output_type": "stream",
          "name": "stdout",
          "text": [
            "--2025-03-03 17:06:54--  https://raw.githubusercontent.com/cbannard/compling24/refs/heads/main/CL_Week_5_Materials/surnames_with_splits.csv\n",
            "Resolving raw.githubusercontent.com (raw.githubusercontent.com)... 185.199.108.133, 185.199.109.133, 185.199.110.133, ...\n",
            "Connecting to raw.githubusercontent.com (raw.githubusercontent.com)|185.199.108.133|:443... connected.\n",
            "HTTP request sent, awaiting response... 200 OK\n",
            "Length: 259531 (253K) [text/plain]\n",
            "Saving to: ‘surnames_with_splits.csv’\n",
            "\n",
            "\rsurnames_with_split   0%[                    ]       0  --.-KB/s               \rsurnames_with_split 100%[===================>] 253.45K  --.-KB/s    in 0.005s  \n",
            "\n",
            "2025-03-03 17:06:54 (47.0 MB/s) - ‘surnames_with_splits.csv’ saved [259531/259531]\n",
            "\n",
            "--2025-03-03 17:06:54--  https://raw.githubusercontent.com/cbannard/compling24/refs/heads/main/CL_Week_5_Materials/mlp_tools.py\n",
            "Resolving raw.githubusercontent.com (raw.githubusercontent.com)... 185.199.108.133, 185.199.109.133, 185.199.110.133, ...\n",
            "Connecting to raw.githubusercontent.com (raw.githubusercontent.com)|185.199.108.133|:443... connected.\n",
            "HTTP request sent, awaiting response... 200 OK\n",
            "Length: 21990 (21K) [text/plain]\n",
            "Saving to: ‘mlp_tools.py’\n",
            "\n",
            "mlp_tools.py        100%[===================>]  21.47K  --.-KB/s    in 0s      \n",
            "\n",
            "2025-03-03 17:06:54 (153 MB/s) - ‘mlp_tools.py’ saved [21990/21990]\n",
            "\n",
            "--2025-03-03 17:06:54--  https://raw.githubusercontent.com/cbannard/compling24/refs/heads/main/CL_Week_5_Materials/nn_tools_gen.py\n",
            "Resolving raw.githubusercontent.com (raw.githubusercontent.com)... 185.199.108.133, 185.199.109.133, 185.199.110.133, ...\n",
            "Connecting to raw.githubusercontent.com (raw.githubusercontent.com)|185.199.108.133|:443... connected.\n",
            "HTTP request sent, awaiting response... 200 OK\n",
            "Length: 6149 (6.0K) [text/plain]\n",
            "Saving to: ‘nn_tools_gen.py’\n",
            "\n",
            "nn_tools_gen.py     100%[===================>]   6.00K  --.-KB/s    in 0s      \n",
            "\n",
            "2025-03-03 17:06:54 (70.8 MB/s) - ‘nn_tools_gen.py’ saved [6149/6149]\n",
            "\n",
            "--2025-03-03 17:06:55--  https://raw.githubusercontent.com/cbannard/compling24/refs/heads/main/CL_Week_5_Materials/generation_tools.py\n",
            "Resolving raw.githubusercontent.com (raw.githubusercontent.com)... 185.199.111.133, 185.199.108.133, 185.199.110.133, ...\n",
            "Connecting to raw.githubusercontent.com (raw.githubusercontent.com)|185.199.111.133|:443... connected.\n",
            "HTTP request sent, awaiting response... 200 OK\n",
            "Length: 12526 (12K) [text/plain]\n",
            "Saving to: ‘generation_tools.py’\n",
            "\n",
            "generation_tools.py 100%[===================>]  12.23K  --.-KB/s    in 0s      \n",
            "\n",
            "2025-03-03 17:06:55 (107 MB/s) - ‘generation_tools.py’ saved [12526/12526]\n",
            "\n",
            "--2025-03-03 17:06:55--  https://raw.githubusercontent.com/cbannard/compling24/refs/heads/main/CL_Week_5_Materials/rnn_tools.py\n",
            "Resolving raw.githubusercontent.com (raw.githubusercontent.com)... 185.199.108.133, 185.199.109.133, 185.199.110.133, ...\n",
            "Connecting to raw.githubusercontent.com (raw.githubusercontent.com)|185.199.108.133|:443... connected.\n",
            "HTTP request sent, awaiting response... 200 OK\n",
            "Length: 11939 (12K) [text/plain]\n",
            "Saving to: ‘rnn_tools.py’\n",
            "\n",
            "rnn_tools.py        100%[===================>]  11.66K  --.-KB/s    in 0s      \n",
            "\n",
            "2025-03-03 17:06:55 (120 MB/s) - ‘rnn_tools.py’ saved [11939/11939]\n",
            "\n",
            "--2025-03-03 17:06:55--  https://raw.githubusercontent.com/cbannard/compling24/refs/heads/main/CL_Week_5_Materials/slp_model.pth\n",
            "Resolving raw.githubusercontent.com (raw.githubusercontent.com)... 185.199.108.133, 185.199.109.133, 185.199.110.133, ...\n",
            "Connecting to raw.githubusercontent.com (raw.githubusercontent.com)|185.199.108.133|:443... connected.\n",
            "HTTP request sent, awaiting response... 200 OK\n",
            "Length: 6631 (6.5K) [application/octet-stream]\n",
            "Saving to: ‘slp_model.pth’\n",
            "\n",
            "slp_model.pth       100%[===================>]   6.48K  --.-KB/s    in 0s      \n",
            "\n",
            "2025-03-03 17:06:56 (89.8 MB/s) - ‘slp_model.pth’ saved [6631/6631]\n",
            "\n",
            "--2025-03-03 17:06:56--  https://raw.githubusercontent.com/cbannard/compling24/refs/heads/main/CL_Week_5_Materials/slp_vectorizer.json\n",
            "Resolving raw.githubusercontent.com (raw.githubusercontent.com)... 185.199.108.133, 185.199.109.133, 185.199.110.133, ...\n",
            "Connecting to raw.githubusercontent.com (raw.githubusercontent.com)|185.199.108.133|:443... connected.\n",
            "HTTP request sent, awaiting response... 200 OK\n",
            "Length: 1191 (1.2K) [text/plain]\n",
            "Saving to: ‘slp_vectorizer.json’\n",
            "\n",
            "slp_vectorizer.json 100%[===================>]   1.16K  --.-KB/s    in 0s      \n",
            "\n",
            "2025-03-03 17:06:56 (93.5 MB/s) - ‘slp_vectorizer.json’ saved [1191/1191]\n",
            "\n",
            "--2025-03-03 17:06:56--  https://raw.githubusercontent.com/cbannard/compling24/refs/heads/main/CL_Week_5_Materials/mlp_model.pth\n",
            "Resolving raw.githubusercontent.com (raw.githubusercontent.com)... 185.199.108.133, 185.199.109.133, 185.199.110.133, ...\n",
            "Connecting to raw.githubusercontent.com (raw.githubusercontent.com)|185.199.108.133|:443... connected.\n",
            "HTTP request sent, awaiting response... 200 OK\n",
            "Length: 116767 (114K) [application/octet-stream]\n",
            "Saving to: ‘mlp_model.pth’\n",
            "\n",
            "mlp_model.pth       100%[===================>] 114.03K  --.-KB/s    in 0.002s  \n",
            "\n",
            "2025-03-03 17:06:56 (57.8 MB/s) - ‘mlp_model.pth’ saved [116767/116767]\n",
            "\n",
            "--2025-03-03 17:06:56--  https://raw.githubusercontent.com/cbannard/compling24/refs/heads/main/CL_Week_5_Materials/mlp_vectorizer.json\n",
            "Resolving raw.githubusercontent.com (raw.githubusercontent.com)... 185.199.111.133, 185.199.108.133, 185.199.110.133, ...\n",
            "Connecting to raw.githubusercontent.com (raw.githubusercontent.com)|185.199.111.133|:443... connected.\n",
            "HTTP request sent, awaiting response... 200 OK\n",
            "Length: 1191 (1.2K) [text/plain]\n",
            "Saving to: ‘mlp_vectorizer.json’\n",
            "\n",
            "mlp_vectorizer.json 100%[===================>]   1.16K  --.-KB/s    in 0s      \n",
            "\n",
            "2025-03-03 17:06:56 (83.6 MB/s) - ‘mlp_vectorizer.json’ saved [1191/1191]\n",
            "\n",
            "--2025-03-03 17:06:56--  https://raw.githubusercontent.com/cbannard/compling24/refs/heads/main/CL_Week_5_Materials/rnn_model.pth\n",
            "Resolving raw.githubusercontent.com (raw.githubusercontent.com)... 185.199.108.133, 185.199.109.133, 185.199.110.133, ...\n",
            "Connecting to raw.githubusercontent.com (raw.githubusercontent.com)|185.199.108.133|:443... connected.\n",
            "HTTP request sent, awaiting response... 200 OK\n",
            "Length: 98379 (96K) [application/octet-stream]\n",
            "Saving to: ‘rnn_model.pth’\n",
            "\n",
            "rnn_model.pth       100%[===================>]  96.07K  --.-KB/s    in 0.002s  \n",
            "\n",
            "2025-03-03 17:06:56 (42.7 MB/s) - ‘rnn_model.pth’ saved [98379/98379]\n",
            "\n",
            "--2025-03-03 17:06:56--  https://raw.githubusercontent.com/cbannard/compling24/refs/heads/main/CL_Week_5_Materials/rnn_vectorizer.json\n",
            "Resolving raw.githubusercontent.com (raw.githubusercontent.com)... 185.199.108.133, 185.199.109.133, 185.199.110.133, ...\n",
            "Connecting to raw.githubusercontent.com (raw.githubusercontent.com)|185.199.108.133|:443... connected.\n",
            "HTTP request sent, awaiting response... 200 OK\n",
            "Length: 1261 (1.2K) [text/plain]\n",
            "Saving to: ‘rnn_vectorizer.json’\n",
            "\n",
            "rnn_vectorizer.json 100%[===================>]   1.23K  --.-KB/s    in 0s      \n",
            "\n",
            "2025-03-03 17:06:56 (90.6 MB/s) - ‘rnn_vectorizer.json’ saved [1261/1261]\n",
            "\n",
            "--2025-03-03 17:06:57--  https://raw.githubusercontent.com/cbannard/compling24/refs/heads/main/CL_Week_5_Materials/gru_model.pth\n",
            "Resolving raw.githubusercontent.com (raw.githubusercontent.com)... 185.199.109.133, 185.199.108.133, 185.199.110.133, ...\n",
            "Connecting to raw.githubusercontent.com (raw.githubusercontent.com)|185.199.109.133|:443... connected.\n",
            "HTTP request sent, awaiting response... 200 OK\n",
            "Length: 183371 (179K) [application/octet-stream]\n",
            "Saving to: ‘gru_model.pth’\n",
            "\n",
            "gru_model.pth       100%[===================>] 179.07K  --.-KB/s    in 0.005s  \n",
            "\n",
            "2025-03-03 17:06:57 (37.8 MB/s) - ‘gru_model.pth’ saved [183371/183371]\n",
            "\n",
            "--2025-03-03 17:06:57--  https://raw.githubusercontent.com/cbannard/compling24/refs/heads/main/CL_Week_5_Materials/gru_vectorizer.json\n",
            "Resolving raw.githubusercontent.com (raw.githubusercontent.com)... 185.199.108.133, 185.199.109.133, 185.199.110.133, ...\n",
            "Connecting to raw.githubusercontent.com (raw.githubusercontent.com)|185.199.108.133|:443... connected.\n",
            "HTTP request sent, awaiting response... 200 OK\n",
            "Length: 1261 (1.2K) [text/plain]\n",
            "Saving to: ‘gru_vectorizer.json’\n",
            "\n",
            "gru_vectorizer.json 100%[===================>]   1.23K  --.-KB/s    in 0s      \n",
            "\n",
            "2025-03-03 17:06:57 (93.4 MB/s) - ‘gru_vectorizer.json’ saved [1261/1261]\n",
            "\n",
            "--2025-03-03 17:06:57--  https://raw.githubusercontent.com/cbannard/compling24/refs/heads/main/CL_Week_5_Materials/ugen_model.pth\n",
            "Resolving raw.githubusercontent.com (raw.githubusercontent.com)... 185.199.108.133, 185.199.109.133, 185.199.110.133, ...\n",
            "Connecting to raw.githubusercontent.com (raw.githubusercontent.com)|185.199.108.133|:443... connected.\n",
            "HTTP request sent, awaiting response... 200 OK\n",
            "Length: 50259 (49K) [application/octet-stream]\n",
            "Saving to: ‘ugen_model.pth’\n",
            "\n",
            "ugen_model.pth      100%[===================>]  49.08K  --.-KB/s    in 0.001s  \n",
            "\n",
            "2025-03-03 17:06:57 (44.6 MB/s) - ‘ugen_model.pth’ saved [50259/50259]\n",
            "\n",
            "--2025-03-03 17:06:57--  https://raw.githubusercontent.com/cbannard/compling24/refs/heads/main/CL_Week_5_Materials/ugen_vectorizer.json\n",
            "Resolving raw.githubusercontent.com (raw.githubusercontent.com)... 185.199.108.133, 185.199.109.133, 185.199.110.133, ...\n",
            "Connecting to raw.githubusercontent.com (raw.githubusercontent.com)|185.199.108.133|:443... connected.\n",
            "HTTP request sent, awaiting response... 200 OK\n",
            "Length: 1368 (1.3K) [text/plain]\n",
            "Saving to: ‘ugen_vectorizer.json’\n",
            "\n",
            "ugen_vectorizer.jso 100%[===================>]   1.34K  --.-KB/s    in 0s      \n",
            "\n",
            "2025-03-03 17:06:57 (63.8 MB/s) - ‘ugen_vectorizer.json’ saved [1368/1368]\n",
            "\n",
            "--2025-03-03 17:06:57--  https://raw.githubusercontent.com/cbannard/compling24/refs/heads/main/CL_Week_5_Materials/cgen_model.pth\n",
            "Resolving raw.githubusercontent.com (raw.githubusercontent.com)... 185.199.108.133, 185.199.109.133, 185.199.110.133, ...\n",
            "Connecting to raw.githubusercontent.com (raw.githubusercontent.com)|185.199.108.133|:443... connected.\n",
            "HTTP request sent, awaiting response... 200 OK\n",
            "Length: 52443 (51K) [application/octet-stream]\n",
            "Saving to: ‘cgen_model.pth’\n",
            "\n",
            "cgen_model.pth      100%[===================>]  51.21K  --.-KB/s    in 0.001s  \n",
            "\n",
            "2025-03-03 17:06:57 (51.5 MB/s) - ‘cgen_model.pth’ saved [52443/52443]\n",
            "\n",
            "--2025-03-03 17:06:57--  https://raw.githubusercontent.com/cbannard/compling24/refs/heads/main/CL_Week_5_Materials/cgen_vectorizer.json\n",
            "Resolving raw.githubusercontent.com (raw.githubusercontent.com)... 185.199.109.133, 185.199.110.133, 185.199.108.133, ...\n",
            "Connecting to raw.githubusercontent.com (raw.githubusercontent.com)|185.199.109.133|:443... connected.\n",
            "HTTP request sent, awaiting response... 200 OK\n",
            "Length: 1368 (1.3K) [text/plain]\n",
            "Saving to: ‘cgen_vectorizer.json’\n",
            "\n",
            "cgen_vectorizer.jso 100%[===================>]   1.34K  --.-KB/s    in 0s      \n",
            "\n",
            "2025-03-03 17:06:58 (93.8 MB/s) - ‘cgen_vectorizer.json’ saved [1368/1368]\n",
            "\n"
          ]
        }
      ],
      "source": [
        "!wget https://raw.githubusercontent.com/cbannard/compling24/refs/heads/main/CL_Week_5_Materials/surnames_with_splits.csv\n",
        "!wget https://raw.githubusercontent.com/cbannard/compling24/refs/heads/main/CL_Week_5_Materials/mlp_tools.py\n",
        "!wget https://raw.githubusercontent.com/cbannard/compling24/refs/heads/main/CL_Week_5_Materials/nn_tools_gen.py\n",
        "!wget https://raw.githubusercontent.com/cbannard/compling24/refs/heads/main/CL_Week_5_Materials/generation_tools.py\n",
        "!wget https://raw.githubusercontent.com/cbannard/compling24/refs/heads/main/CL_Week_5_Materials/rnn_tools.py\n",
        "!wget https://raw.githubusercontent.com/cbannard/compling24/refs/heads/main/CL_Week_5_Materials/slp_model.pth\n",
        "!wget https://raw.githubusercontent.com/cbannard/compling24/refs/heads/main/CL_Week_5_Materials/slp_vectorizer.json\n",
        "!wget https://raw.githubusercontent.com/cbannard/compling24/refs/heads/main/CL_Week_5_Materials/mlp_model.pth\n",
        "!wget https://raw.githubusercontent.com/cbannard/compling24/refs/heads/main/CL_Week_5_Materials/mlp_vectorizer.json\n",
        "!wget https://raw.githubusercontent.com/cbannard/compling24/refs/heads/main/CL_Week_5_Materials/rnn_model.pth\n",
        "!wget https://raw.githubusercontent.com/cbannard/compling24/refs/heads/main/CL_Week_5_Materials/rnn_vectorizer.json\n",
        "!wget https://raw.githubusercontent.com/cbannard/compling24/refs/heads/main/CL_Week_5_Materials/gru_model.pth\n",
        "!wget https://raw.githubusercontent.com/cbannard/compling24/refs/heads/main/CL_Week_5_Materials/gru_vectorizer.json\n",
        "!wget https://raw.githubusercontent.com/cbannard/compling24/refs/heads/main/CL_Week_5_Materials/ugen_model.pth\n",
        "!wget https://raw.githubusercontent.com/cbannard/compling24/refs/heads/main/CL_Week_5_Materials/ugen_vectorizer.json\n",
        "!wget https://raw.githubusercontent.com/cbannard/compling24/refs/heads/main/CL_Week_5_Materials/cgen_model.pth\n",
        "!wget https://raw.githubusercontent.com/cbannard/compling24/refs/heads/main/CL_Week_5_Materials/cgen_vectorizer.json\n",
        "\n",
        "#!cp *py /content/gdrive/MyDrive/CL_Week_5_Materials/\n",
        "#!cp *json /content/gdrive/MyDrive/CL_Week_5_Materials/\n",
        "#!cp *csv /content/gdrive/MyDrive/CL_Week_5_Materials/\n",
        "#!cp *pth /content/gdrive/MyDrive/CL_Week_5_Materials/\n"
      ]
    },
    {
      "cell_type": "markdown",
      "metadata": {
        "id": "qpnWOxajoiYY"
      },
      "source": [
        "### Importing modules"
      ]
    },
    {
      "cell_type": "code",
      "execution_count": 20,
      "metadata": {
        "id": "UqFmkcr0oiYY"
      },
      "outputs": [],
      "source": [
        "from argparse import Namespace\n",
        "from collections import Counter\n",
        "import json\n",
        "import os\n",
        "import re\n",
        "import string\n",
        "\n",
        "import numpy as np\n",
        "import pandas as pd\n",
        "import torch\n",
        "import torch.nn as nn\n",
        "import torch.optim as optim\n",
        "from torch.utils.data import Dataset, DataLoader\n",
        "from tqdm import tqdm_notebook\n",
        "from nn_tools_gen import *\n",
        "from mlp_tools import *\n",
        "\n",
        "import matplotlib.pyplot as plt\n",
        "%matplotlib inline"
      ]
    },
    {
      "cell_type": "markdown",
      "metadata": {
        "id": "gmQ7A-vR9MWH"
      },
      "source": [
        "### Multiclass Single layer neural network\n",
        "\n",
        "First we will use a single layer neural network. This is identical to the network that we used last week for sentiment classification, except for the output layer (that now applies a softmax function rather than a sigmoid function, as we have moved from 2 to >2 output classes).\n",
        "\n",
        "Instead of writing all the classification code we are going to use a tool called PyTorch. The point of including this is to examine the output - you do not need to understand the code."
      ]
    },
    {
      "cell_type": "code",
      "execution_count": 21,
      "metadata": {
        "id": "tbck87LC-AKV"
      },
      "outputs": [],
      "source": [
        "class SurnameClassifier(nn.Module):\n",
        "    \"\"\" A 1-layer Multilayer Perceptron for classifying surnames \"\"\"\n",
        "    def __init__(self, input_dim, hidden_dim, output_dim):\n",
        "        \"\"\"\n",
        "        Args:\n",
        "            input_dim (int): the size of the input vectors\n",
        "            output_dim (int): the output size of the second Linear layer\n",
        "        \"\"\"\n",
        "        super(SurnameClassifier, self).__init__()\n",
        "        self.fc1 = nn.Linear(input_dim, output_dim)\n",
        "\n",
        "    def forward(self, x_in, apply_softmax=False):\n",
        "        \"\"\"The forward pass of the classifier\n",
        "\n",
        "        Args:\n",
        "            x_in (torch.Tensor): an input data tensor.\n",
        "                x_in.shape should be (batch, input_dim)\n",
        "            apply_softmax (bool): a flag for the softmax activation\n",
        "                should be false if used with the Cross Entropy losses\n",
        "        Returns:\n",
        "            the resulting tensor. tensor.shape should be (batch, output_dim)\n",
        "        \"\"\"\n",
        "        prediction_vector = self.fc1(x_in)\n",
        "\n",
        "        if apply_softmax:\n",
        "            prediction_vector = F.softmax(prediction_vector, dim=1)\n",
        "\n",
        "        return prediction_vector"
      ]
    },
    {
      "cell_type": "code",
      "execution_count": 22,
      "metadata": {
        "id": "bXtobfIs-OJc",
        "outputId": "895d4300-4f7d-4e21-cc33-b17240bb6076",
        "colab": {
          "base_uri": "https://localhost:8080/"
        }
      },
      "outputs": [
        {
          "output_type": "stream",
          "name": "stdout",
          "text": [
            "Expanded filepaths: \n",
            "\t./slp_vectorizer.json\n",
            "\t./slp_model.pth\n",
            "Using CUDA: False\n"
          ]
        }
      ],
      "source": [
        "args = Namespace(\n",
        "    # Data and path information\n",
        "    surname_csv=\"surnames_with_splits.csv\",\n",
        "    vectorizer_file=\"slp_vectorizer.json\",\n",
        "    model_state_file=\"slp_model.pth\",\n",
        "    #save_dir=\"/content/gdrive/My Drive/CL_Week_5_Materials/\",\n",
        "    save_dir=\".\",\n",
        "    # Model hyper parameters\n",
        "    hidden_dim=300,\n",
        "    # Training  hyper parameters\n",
        "    seed=1337,\n",
        "    num_epochs=100,\n",
        "    early_stopping_criteria=5,\n",
        "    learning_rate=0.001,\n",
        "    batch_size=64,\n",
        "    # Runtime options\n",
        "    cuda=False,\n",
        "    reload_from_files=False,\n",
        "    expand_filepaths_to_save_dir=True,\n",
        ")\n",
        "\n",
        "if args.expand_filepaths_to_save_dir:\n",
        "    args.vectorizer_file = os.path.join(args.save_dir,\n",
        "                                        args.vectorizer_file)\n",
        "\n",
        "    args.model_state_file = os.path.join(args.save_dir,\n",
        "                                         args.model_state_file)\n",
        "\n",
        "    print(\"Expanded filepaths: \")\n",
        "    print(\"\\t{}\".format(args.vectorizer_file))\n",
        "    print(\"\\t{}\".format(args.model_state_file))\n",
        "\n",
        "# Check CUDA\n",
        "if not torch.cuda.is_available():\n",
        "    args.cuda = False\n",
        "\n",
        "args.device = torch.device(\"cuda\" if args.cuda else \"cpu\")\n",
        "\n",
        "print(\"Using CUDA: {}\".format(args.cuda))\n",
        "\n",
        "\n",
        "# Set seed for reproducibility\n",
        "set_seed_everywhere(args.seed, args.cuda)\n",
        "\n",
        "# handle dirs\n",
        "handle_dirs(args.save_dir)"
      ]
    },
    {
      "cell_type": "code",
      "execution_count": 23,
      "metadata": {
        "id": "0_Az7-X7-Swz",
        "outputId": "5ff46322-f0d4-4e71-88ff-f8eb151c29b0",
        "colab": {
          "base_uri": "https://localhost:8080/"
        }
      },
      "outputs": [
        {
          "output_type": "stream",
          "name": "stdout",
          "text": [
            "Creating fresh!\n"
          ]
        }
      ],
      "source": [
        "if args.reload_from_files:\n",
        "    # training from a checkpoint\n",
        "    print(\"Reloading!\")\n",
        "    dataset = SurnameDataset.load_dataset_and_load_vectorizer(args.surname_csv,\n",
        "                                                              args.vectorizer_file)\n",
        "else:\n",
        "    # create dataset and vectorizer\n",
        "    print(\"Creating fresh!\")\n",
        "    dataset = SurnameDataset.load_dataset_and_make_vectorizer(args.surname_csv)\n",
        "    dataset.save_vectorizer(args.vectorizer_file)\n",
        "\n",
        "vectorizer = dataset.get_vectorizer()\n",
        "classifier = SurnameClassifier(input_dim=len(vectorizer.surname_vocab),\n",
        "                               hidden_dim=args.hidden_dim,\n",
        "                               output_dim=len(vectorizer.nationality_vocab))"
      ]
    },
    {
      "cell_type": "code",
      "execution_count": 24,
      "metadata": {
        "id": "Kgcqnl2L-hQu",
        "outputId": "64704679-2cc0-47ca-edef-26185c768328",
        "colab": {
          "base_uri": "https://localhost:8080/"
        }
      },
      "outputs": [
        {
          "output_type": "stream",
          "name": "stdout",
          "text": [
            "0 2.326228618621826 35.9375\n",
            "1 2.2158578634262085 38.28125\n",
            "2 2.316247304280599 39.0625\n",
            "3 2.343578040599823 39.453125\n",
            "4 2.2987738609313966 40.625\n",
            "5 2.2784401973088584 41.145833333333336\n",
            "6 2.2585604190826416 40.401785714285715\n",
            "7 2.224371686577797 41.2109375\n",
            "8 2.2143973641925387 40.97222222222222\n",
            "9 2.205352771282196 41.40625\n",
            "10 2.2277945496819234 41.19318181818182\n",
            "11 2.218890716632207 41.66666666666667\n",
            "12 2.2136484017738924 41.94711538461539\n",
            "13 2.1906863451004024 41.629464285714285\n",
            "14 2.1994763851165766 41.666666666666664\n",
            "15 2.1991986632347102 42.1875\n",
            "16 2.190478030373068 42.279411764705884\n",
            "17 2.2000237173504296 42.44791666666667\n",
            "18 2.1985200957248083 42.02302631578948\n",
            "19 2.2075490474700925 41.87500000000001\n",
            "20 2.2069017432984848 42.55952380952382\n",
            "21 2.191914319992065 43.18181818181819\n",
            "22 2.1922634684521216 42.934782608695656\n",
            "23 2.1997676789760585 42.903645833333336\n",
            "24 2.207056770324707 42.8125\n"
          ]
        },
        {
          "output_type": "stream",
          "name": "stderr",
          "text": [
            "<ipython-input-24-045f797f8b9f>:2: FutureWarning: You are using `torch.load` with `weights_only=False` (the current default value), which uses the default pickle module implicitly. It is possible to construct malicious pickle data which will execute arbitrary code during unpickling (See https://github.com/pytorch/pytorch/blob/main/SECURITY.md#untrusted-models for more details). In a future release, the default value for `weights_only` will be flipped to `True`. This limits the functions that could be executed during unpickling. Arbitrary objects will no longer be allowed to be loaded via this mode unless they are explicitly allowlisted by the user via `torch.serialization.add_safe_globals`. We recommend you start setting `weights_only=True` for any use case where you don't have full control of the loaded file. Please open an issue on GitHub for any issues related to this experimental feature.\n",
            "  classifier.load_state_dict(torch.load(train_state['model_filename']))\n"
          ]
        }
      ],
      "source": [
        "train_state = make_train_state(args)\n",
        "classifier.load_state_dict(torch.load(train_state['model_filename']))\n",
        "\n",
        "classifier = classifier.to(args.device)\n",
        "dataset.class_weights = dataset.class_weights.to(args.device)\n",
        "loss_func = nn.CrossEntropyLoss(dataset.class_weights)\n",
        "\n",
        "dataset.set_split('test')\n",
        "batch_generator = generate_batches(dataset,\n",
        "                                   batch_size=args.batch_size,\n",
        "                                   device=args.device)\n",
        "running_loss = 0.\n",
        "running_acc = 0.\n",
        "classifier.eval()\n",
        "\n",
        "for batch_index, batch_dict in enumerate(batch_generator):\n",
        "    # compute the output\n",
        "    y_pred =  classifier(batch_dict['x_surname'])\n",
        "\n",
        "    # compute the loss\n",
        "    loss = loss_func(y_pred, batch_dict['y_nationality'])\n",
        "    loss_t = loss.item()\n",
        "    running_loss += (loss_t - running_loss) / (batch_index + 1)\n",
        "\n",
        "    # compute the accuracy\n",
        "    acc_t = compute_accuracy(y_pred, batch_dict['y_nationality'])\n",
        "    running_acc += (acc_t - running_acc) / (batch_index + 1)\n",
        "    print(str(batch_index) + \" \" + str(running_loss) + \" \" + str(running_acc))\n",
        "\n",
        "train_state['test_loss'] = running_loss\n",
        "train_state['test_acc'] = running_acc"
      ]
    },
    {
      "cell_type": "code",
      "execution_count": 25,
      "metadata": {
        "id": "tPGJ_-de-ms_",
        "outputId": "11b9ea2a-a863-489d-f503-e70fd0730603",
        "colab": {
          "base_uri": "https://localhost:8080/"
        }
      },
      "outputs": [
        {
          "output_type": "stream",
          "name": "stdout",
          "text": [
            "Test loss: 2.207056770324707;\n",
            "Test Accuracy: 42.8125\n"
          ]
        }
      ],
      "source": [
        "print(\"Test loss: {};\".format(train_state['test_loss']))\n",
        "print(\"Test Accuracy: {}\".format(train_state['test_acc']))"
      ]
    },
    {
      "cell_type": "code",
      "execution_count": 32,
      "metadata": {
        "id": "kOlQCx54-qvO",
        "outputId": "fdb21ae0-99dc-458f-9778-7cb7b3e7fa41",
        "colab": {
          "base_uri": "https://localhost:8080/"
        }
      },
      "outputs": [
        {
          "output_type": "stream",
          "name": "stdout",
          "text": [
            "Enter a surname to classify: Brown\n",
            "Brown -> English (p=0.16)\n"
          ]
        }
      ],
      "source": [
        "new_surname = input(\"Enter a surname to classify: \")\n",
        "classifier = classifier.to(\"cpu\")\n",
        "prediction = predict_nationality(new_surname, classifier, vectorizer)\n",
        "print(\"{} -> {} (p={:0.2f})\".format(new_surname,\n",
        "                                    prediction['nationality'],\n",
        "                                    prediction['probability']))"
      ]
    },
    {
      "cell_type": "markdown",
      "metadata": {
        "id": "yFLoMQ_FF6wm"
      },
      "source": [
        "If you want to test a few at a time you can put them in a list like this:"
      ]
    },
    {
      "cell_type": "code",
      "execution_count": 30,
      "metadata": {
        "id": "jxYgBV8hF5y5",
        "outputId": "76df424a-5955-4297-c83c-2d9808a2d9da",
        "colab": {
          "base_uri": "https://localhost:8080/"
        }
      },
      "outputs": [
        {
          "output_type": "stream",
          "name": "stdout",
          "text": [
            "{'nationality': 'Irish', 'probability': 0.1498262882232666}\n",
            "{'nationality': 'Japanese', 'probability': 0.3817743957042694}\n",
            "{'nationality': 'Chinese', 'probability': 0.15522107481956482}\n",
            "{'nationality': 'Korean', 'probability': 0.1300460398197174}\n"
          ]
        }
      ],
      "source": [
        "# surname = input(\"Enter a surname: \")\n",
        "classifier = classifier.to(\"cpu\")\n",
        "for surname in ['McMahan', 'Nakamoto', 'Wan', 'Cho']:\n",
        "    print(predict_nationality(surname, classifier, vectorizer))"
      ]
    },
    {
      "cell_type": "markdown",
      "metadata": {
        "id": "BcJu2x9Lq3O2"
      },
      "source": [
        "### MultiLayer Perceptron\n",
        "\n",
        "Next we will use a multilayer perceptron. This is identical to the model above except that we add a hidden layer between the input and the output layers that combined the weighted input from the different first layers (input) nodes and learns a new set of weights to apply to the resulting combined values before submitting these new values to the output (softmax) function."
      ]
    },
    {
      "cell_type": "code",
      "execution_count": 33,
      "metadata": {
        "id": "wR5JvoX2q2VU"
      },
      "outputs": [],
      "source": [
        "class SurnameClassifier(nn.Module):\n",
        "    \"\"\" A 2-layer Multilayer Perceptron for classifying surnames \"\"\"\n",
        "    def __init__(self, input_dim, hidden_dim, output_dim):\n",
        "        \"\"\"\n",
        "        Args:\n",
        "            input_dim (int): the size of the input vectors\n",
        "            hidden_dim (int): the output size of the first Linear layer\n",
        "            output_dim (int): the output size of the second Linear layer\n",
        "        \"\"\"\n",
        "        super(SurnameClassifier, self).__init__()\n",
        "        self.fc1 = nn.Linear(input_dim, hidden_dim)\n",
        "        self.fc2 = nn.Linear(hidden_dim, output_dim)\n",
        "\n",
        "    def forward(self, x_in, apply_softmax=False):\n",
        "        \"\"\"The forward pass of the classifier\n",
        "\n",
        "        Args:\n",
        "            x_in (torch.Tensor): an input data tensor.\n",
        "                x_in.shape should be (batch, input_dim)\n",
        "            apply_softmax (bool): a flag for the softmax activation\n",
        "                should be false if used with the Cross Entropy losses\n",
        "        Returns:\n",
        "            the resulting tensor. tensor.shape should be (batch, output_dim)\n",
        "        \"\"\"\n",
        "        intermediate_vector = F.relu(self.fc1(x_in))\n",
        "        prediction_vector = self.fc2(intermediate_vector)\n",
        "\n",
        "        if apply_softmax:\n",
        "            prediction_vector = F.softmax(prediction_vector, dim=1)\n",
        "\n",
        "        return prediction_vector"
      ]
    },
    {
      "cell_type": "code",
      "execution_count": 34,
      "metadata": {
        "id": "F2m7HbRmrLwy",
        "outputId": "1603210b-89f4-4db8-f7bd-d5c975e27c89",
        "colab": {
          "base_uri": "https://localhost:8080/"
        }
      },
      "outputs": [
        {
          "output_type": "stream",
          "name": "stdout",
          "text": [
            "Expanded filepaths: \n",
            "\t./mlp_vectorizer.json\n",
            "\t./mlp_model.pth\n",
            "Using CUDA: False\n"
          ]
        }
      ],
      "source": [
        "args = Namespace(\n",
        "    # Data and path information\n",
        "    surname_csv=\"surnames_with_splits.csv\",\n",
        "    vectorizer_file=\"mlp_vectorizer.json\",\n",
        "    model_state_file=\"mlp_model.pth\",\n",
        "    #save_dir=\"/content/gdrive/My Drive/CL_Week_5_Materials/\",\n",
        "    save_dir=\".\",\n",
        "    # Model hyper parameters\n",
        "    hidden_dim=300,\n",
        "    # Training  hyper parameters\n",
        "    seed=1337,\n",
        "    num_epochs=100,\n",
        "    early_stopping_criteria=5,\n",
        "    learning_rate=0.001,\n",
        "    batch_size=64,\n",
        "    # Runtime options\n",
        "    cuda=False,\n",
        "    reload_from_files=False,\n",
        "    expand_filepaths_to_save_dir=True,\n",
        ")\n",
        "\n",
        "if args.expand_filepaths_to_save_dir:\n",
        "    args.vectorizer_file = os.path.join(args.save_dir,\n",
        "                                        args.vectorizer_file)\n",
        "\n",
        "    args.model_state_file = os.path.join(args.save_dir,\n",
        "                                         args.model_state_file)\n",
        "\n",
        "    print(\"Expanded filepaths: \")\n",
        "    print(\"\\t{}\".format(args.vectorizer_file))\n",
        "    print(\"\\t{}\".format(args.model_state_file))\n",
        "\n",
        "# Check CUDA\n",
        "if not torch.cuda.is_available():\n",
        "    args.cuda = False\n",
        "\n",
        "args.device = torch.device(\"cuda\" if args.cuda else \"cpu\")\n",
        "\n",
        "print(\"Using CUDA: {}\".format(args.cuda))\n",
        "\n",
        "\n",
        "# Set seed for reproducibility\n",
        "set_seed_everywhere(args.seed, args.cuda)\n",
        "\n",
        "# handle dirs\n",
        "handle_dirs(args.save_dir)"
      ]
    },
    {
      "cell_type": "code",
      "execution_count": 35,
      "metadata": {
        "id": "Yr6xbVLLrRU5",
        "outputId": "ad5c40b3-3dda-4a54-b3d9-106695e89b40",
        "colab": {
          "base_uri": "https://localhost:8080/"
        }
      },
      "outputs": [
        {
          "output_type": "stream",
          "name": "stdout",
          "text": [
            "Creating fresh!\n"
          ]
        }
      ],
      "source": [
        "if args.reload_from_files:\n",
        "    # training from a checkpoint\n",
        "    print(\"Reloading!\")\n",
        "    dataset = SurnameDataset.load_dataset_and_load_vectorizer(args.surname_csv,\n",
        "                                                              args.vectorizer_file)\n",
        "else:\n",
        "    # create dataset and vectorizer\n",
        "    print(\"Creating fresh!\")\n",
        "    dataset = SurnameDataset.load_dataset_and_make_vectorizer(args.surname_csv)\n",
        "    dataset.save_vectorizer(args.vectorizer_file)\n",
        "\n",
        "vectorizer = dataset.get_vectorizer()\n",
        "classifier = SurnameClassifier(input_dim=len(vectorizer.surname_vocab),\n",
        "                               hidden_dim=args.hidden_dim,\n",
        "                               output_dim=len(vectorizer.nationality_vocab))"
      ]
    },
    {
      "cell_type": "code",
      "execution_count": 36,
      "metadata": {
        "id": "DygZuZENr1ke",
        "outputId": "b30c9de8-d6ef-4140-f39f-108b73af593c",
        "colab": {
          "base_uri": "https://localhost:8080/"
        }
      },
      "outputs": [
        {
          "output_type": "stream",
          "name": "stdout",
          "text": [
            "0 1.974481225013733 43.75\n",
            "1 1.8126301765441895 42.1875\n",
            "2 1.9404749075571697 42.1875\n",
            "3 1.9277713894844055 42.578125\n",
            "4 1.8902894973754882 42.1875\n",
            "5 1.7462740739186604 44.53125\n",
            "6 1.7442865371704102 44.19642857142857\n",
            "7 1.7172853201627731 45.3125\n",
            "8 1.7344663672977023 45.138888888888886\n",
            "9 1.7754987716674804 44.6875\n",
            "10 1.7710323550484397 44.60227272727273\n",
            "11 1.788621336221695 44.010416666666664\n",
            "12 1.734587495143597 44.71153846153846\n",
            "13 1.714039955820356 44.08482142857143\n",
            "14 1.715809416770935 43.958333333333336\n",
            "15 1.7479792311787605 44.23828125\n",
            "16 1.8029362944995655 43.474264705882355\n",
            "17 1.8126101162698534 43.57638888888889\n",
            "18 1.8156756852802478 43.66776315789474\n",
            "19 1.8152189493179323 43.90625\n",
            "20 1.830967494419643 44.345238095238095\n",
            "21 1.8192235231399538 44.60227272727273\n",
            "22 1.8338731164517612 44.90489130434783\n",
            "23 1.8317103137572608 45.1171875\n",
            "24 1.8400198984146119 45.3125\n"
          ]
        },
        {
          "output_type": "stream",
          "name": "stderr",
          "text": [
            "<ipython-input-36-045f797f8b9f>:2: FutureWarning: You are using `torch.load` with `weights_only=False` (the current default value), which uses the default pickle module implicitly. It is possible to construct malicious pickle data which will execute arbitrary code during unpickling (See https://github.com/pytorch/pytorch/blob/main/SECURITY.md#untrusted-models for more details). In a future release, the default value for `weights_only` will be flipped to `True`. This limits the functions that could be executed during unpickling. Arbitrary objects will no longer be allowed to be loaded via this mode unless they are explicitly allowlisted by the user via `torch.serialization.add_safe_globals`. We recommend you start setting `weights_only=True` for any use case where you don't have full control of the loaded file. Please open an issue on GitHub for any issues related to this experimental feature.\n",
            "  classifier.load_state_dict(torch.load(train_state['model_filename']))\n"
          ]
        }
      ],
      "source": [
        "train_state = make_train_state(args)\n",
        "classifier.load_state_dict(torch.load(train_state['model_filename']))\n",
        "\n",
        "classifier = classifier.to(args.device)\n",
        "dataset.class_weights = dataset.class_weights.to(args.device)\n",
        "loss_func = nn.CrossEntropyLoss(dataset.class_weights)\n",
        "\n",
        "dataset.set_split('test')\n",
        "batch_generator = generate_batches(dataset,\n",
        "                                   batch_size=args.batch_size,\n",
        "                                   device=args.device)\n",
        "running_loss = 0.\n",
        "running_acc = 0.\n",
        "classifier.eval()\n",
        "\n",
        "for batch_index, batch_dict in enumerate(batch_generator):\n",
        "    # compute the output\n",
        "    y_pred =  classifier(batch_dict['x_surname'])\n",
        "\n",
        "    # compute the loss\n",
        "    loss = loss_func(y_pred, batch_dict['y_nationality'])\n",
        "    loss_t = loss.item()\n",
        "    running_loss += (loss_t - running_loss) / (batch_index + 1)\n",
        "\n",
        "    # compute the accuracy\n",
        "    acc_t = compute_accuracy(y_pred, batch_dict['y_nationality'])\n",
        "    running_acc += (acc_t - running_acc) / (batch_index + 1)\n",
        "    print(str(batch_index) + \" \" + str(running_loss) + \" \" + str(running_acc))\n",
        "\n",
        "train_state['test_loss'] = running_loss\n",
        "train_state['test_acc'] = running_acc"
      ]
    },
    {
      "cell_type": "code",
      "execution_count": 37,
      "metadata": {
        "id": "gh51rENgr4YH",
        "outputId": "e6a101dc-9b4b-4ac1-ce32-38bd13322ab3",
        "colab": {
          "base_uri": "https://localhost:8080/"
        }
      },
      "outputs": [
        {
          "output_type": "stream",
          "name": "stdout",
          "text": [
            "Test loss: 1.8400198984146119;\n",
            "Test Accuracy: 45.3125\n"
          ]
        }
      ],
      "source": [
        "print(\"Test loss: {};\".format(train_state['test_loss']))\n",
        "print(\"Test Accuracy: {}\".format(train_state['test_acc']))"
      ]
    },
    {
      "cell_type": "code",
      "execution_count": 38,
      "metadata": {
        "id": "iDw4dbe3r8Gy",
        "outputId": "7a0bfb62-40c3-4b3c-eb5c-a8835c7e25fd",
        "colab": {
          "base_uri": "https://localhost:8080/"
        }
      },
      "outputs": [
        {
          "output_type": "stream",
          "name": "stdout",
          "text": [
            "Enter a surname to classify: Papp\n",
            "Papp -> Czech (p=0.20)\n"
          ]
        }
      ],
      "source": [
        "new_surname = input(\"Enter a surname to classify: \")\n",
        "classifier = classifier.to(\"cpu\")\n",
        "prediction = predict_nationality(new_surname, classifier, vectorizer)\n",
        "print(\"{} -> {} (p={:0.2f})\".format(new_surname,\n",
        "                                    prediction['nationality'],\n",
        "                                    prediction['probability']))"
      ]
    },
    {
      "cell_type": "markdown",
      "metadata": {
        "id": "NHh73FhnFzF-"
      },
      "source": [
        "If you want to test a few at a time you can put them in a list like this:"
      ]
    },
    {
      "cell_type": "code",
      "execution_count": 39,
      "metadata": {
        "id": "gVM2JCMQFxnW",
        "outputId": "2de8d008-aecc-455c-a6ba-b8137a9c4bd9",
        "colab": {
          "base_uri": "https://localhost:8080/"
        }
      },
      "outputs": [
        {
          "output_type": "stream",
          "name": "stdout",
          "text": [
            "{'nationality': 'Irish', 'probability': 0.40081486105918884}\n",
            "{'nationality': 'Japanese', 'probability': 0.7906776070594788}\n",
            "{'nationality': 'Chinese', 'probability': 0.7111243605613708}\n",
            "{'nationality': 'Korean', 'probability': 0.7131038904190063}\n"
          ]
        }
      ],
      "source": [
        "# surname = input(\"Enter a surname: \")\n",
        "classifier = classifier.to(\"cpu\")\n",
        "for surname in ['McMahan', 'Nakamoto', 'Wan', 'Cho']:\n",
        "    print(predict_nationality(surname, classifier, vectorizer))"
      ]
    },
    {
      "cell_type": "code",
      "source": [
        "!ls"
      ],
      "metadata": {
        "id": "LQ6W6LceGi3w",
        "outputId": "78ae0d31-70e5-46d8-bceb-d4675135adf2",
        "colab": {
          "base_uri": "https://localhost:8080/"
        }
      },
      "execution_count": 40,
      "outputs": [
        {
          "output_type": "stream",
          "name": "stdout",
          "text": [
            "cgen_model.pth\t      mlp_model.pth\t   rnn_model.pth\tslp_vectorizer.json\n",
            "cgen_vectorizer.json  mlp_tools.py\t   rnn_tools.py\t\tsurnames_with_splits.csv\n",
            "generation_tools.py   mlp_vectorizer.json  rnn_vectorizer.json\tugen_model.pth\n",
            "gru_model.pth\t      nn_tools_gen.py\t   sample_data\t\tugen_vectorizer.json\n",
            "gru_vectorizer.json   __pycache__\t   slp_model.pth\n"
          ]
        }
      ]
    },
    {
      "cell_type": "markdown",
      "metadata": {
        "id": "Xf9H9Au5uvsV"
      },
      "source": [
        "### Recurrent Neural Network based classifier\n",
        "\n",
        "Next we use a simple recurrent neural network to transform the sequence input before then passing the resulting representation to a multilayer perceptron (see lecture). This is called an Elman network after Jeff Elman, who first applied such a network to language.\n"
      ]
    },
    {
      "cell_type": "code",
      "execution_count": 41,
      "metadata": {
        "id": "gjdr0Rcwu2Xj"
      },
      "outputs": [],
      "source": [
        "from rnn_tools import *"
      ]
    },
    {
      "cell_type": "code",
      "execution_count": 42,
      "metadata": {
        "id": "tUo1OeNBvH8V"
      },
      "outputs": [],
      "source": [
        "class ElmanRNN(nn.Module):\n",
        "    \"\"\" an Elman RNN built using the RNNCell \"\"\"\n",
        "    def __init__(self, input_size, hidden_size, batch_first=False):\n",
        "        \"\"\"\n",
        "        Args:\n",
        "            input_size (int): size of the input vectors\n",
        "            hidden_size (int): size of the hidden state vectors\n",
        "            bathc_first (bool): whether the 0th dimension is batch\n",
        "        \"\"\"\n",
        "        super(ElmanRNN, self).__init__()\n",
        "\n",
        "        self.rnn_cell = nn.RNNCell(input_size, hidden_size)\n",
        "\n",
        "        self.batch_first = batch_first\n",
        "        self.hidden_size = hidden_size\n",
        "\n",
        "    def _initial_hidden(self, batch_size):\n",
        "        return torch.zeros((batch_size, self.hidden_size))\n",
        "\n",
        "    def forward(self, x_in, initial_hidden=None):\n",
        "        \"\"\"The forward pass of the ElmanRNN\n",
        "\n",
        "        Args:\n",
        "            x_in (torch.Tensor): an input data tensor.\n",
        "                If self.batch_first: x_in.shape = (batch, seq_size, feat_size)\n",
        "                Else: x_in.shape = (seq_size, batch, feat_size)\n",
        "            initial_hidden (torch.Tensor): the initial hidden state for the RNN\n",
        "        Returns:\n",
        "            hiddens (torch.Tensor): The outputs of the RNN at each time step.\n",
        "                If self.batch_first: hiddens.shape = (batch, seq_size, hidden_size)\n",
        "                Else: hiddens.shape = (seq_size, batch, hidden_size)\n",
        "        \"\"\"\n",
        "        if self.batch_first:\n",
        "            batch_size, seq_size, feat_size = x_in.size()\n",
        "            x_in = x_in.permute(1, 0, 2)\n",
        "        else:\n",
        "            seq_size, batch_size, feat_size = x_in.size()\n",
        "\n",
        "        hiddens = []\n",
        "\n",
        "        if initial_hidden is None:\n",
        "            initial_hidden = self._initial_hidden(batch_size)\n",
        "            initial_hidden = initial_hidden.to(x_in.device)\n",
        "\n",
        "        hidden_t = initial_hidden\n",
        "\n",
        "        for t in range(seq_size):\n",
        "            hidden_t = self.rnn_cell(x_in[t], hidden_t)\n",
        "            hiddens.append(hidden_t)\n",
        "\n",
        "        hiddens = torch.stack(hiddens)\n",
        "\n",
        "        if self.batch_first:\n",
        "            hiddens = hiddens.permute(1, 0, 2)\n",
        "\n",
        "        return hiddens\n",
        "\n",
        "\n",
        "\n",
        "class SurnameClassifier(nn.Module):\n",
        "    \"\"\" A Classifier with an RNN to extract features and an MLP to classify \"\"\"\n",
        "    def __init__(self, embedding_size, num_embeddings, num_classes,\n",
        "                 rnn_hidden_size, batch_first=True, padding_idx=0):\n",
        "        \"\"\"\n",
        "        Args:\n",
        "            embedding_size (int): The size of the character embeddings\n",
        "            num_embeddings (int): The number of characters to embed\n",
        "            num_classes (int): The size of the prediction vector\n",
        "                Note: the number of nationalities\n",
        "            rnn_hidden_size (int): The size of the RNN's hidden state\n",
        "            batch_first (bool): Informs whether the input tensors will\n",
        "                have batch or the sequence on the 0th dimension\n",
        "            padding_idx (int): The index for the tensor padding;\n",
        "                see torch.nn.Embedding\n",
        "        \"\"\"\n",
        "        super(SurnameClassifier, self).__init__()\n",
        "\n",
        "        self.emb = nn.Embedding(num_embeddings=num_embeddings,\n",
        "                                embedding_dim=embedding_size,\n",
        "                                padding_idx=padding_idx)\n",
        "        self.rnn = ElmanRNN(input_size=embedding_size,\n",
        "                             hidden_size=rnn_hidden_size,\n",
        "                             batch_first=batch_first)\n",
        "        self.fc1 = nn.Linear(in_features=rnn_hidden_size,\n",
        "                         out_features=rnn_hidden_size)\n",
        "        self.fc2 = nn.Linear(in_features=rnn_hidden_size,\n",
        "                          out_features=num_classes)\n",
        "\n",
        "    def forward(self, x_in, x_lengths=None, apply_softmax=False):\n",
        "        \"\"\"The forward pass of the classifier\n",
        "\n",
        "        Args:\n",
        "            x_in (torch.Tensor): an input data tensor.\n",
        "                x_in.shape should be (batch, input_dim)\n",
        "            x_lengths (torch.Tensor): the lengths of each sequence in the batch.\n",
        "                They are used to find the final vector of each sequence\n",
        "            apply_softmax (bool): a flag for the softmax activation\n",
        "                should be false if used with the Cross Entropy losses\n",
        "        Returns:\n",
        "            the resulting tensor. tensor.shape should be (batch, output_dim)\n",
        "        \"\"\"\n",
        "        x_embedded = self.emb(x_in)\n",
        "        y_out = self.rnn(x_embedded)\n",
        "\n",
        "        if x_lengths is not None:\n",
        "            y_out = column_gather(y_out, x_lengths)\n",
        "        else:\n",
        "            y_out = y_out[:, -1, :]\n",
        "\n",
        "        y_out = F.relu(self.fc1(F.dropout(y_out, 0.5)))\n",
        "        y_out = self.fc2(F.dropout(y_out, 0.5))\n",
        "\n",
        "        if apply_softmax:\n",
        "            y_out = F.softmax(y_out, dim=1)\n",
        "\n",
        "        return y_out"
      ]
    },
    {
      "cell_type": "code",
      "execution_count": 43,
      "metadata": {
        "id": "tjwGxtGnvSZd",
        "outputId": "1bc47653-6fbe-46c7-885a-c5df0eab1130",
        "colab": {
          "base_uri": "https://localhost:8080/"
        }
      },
      "outputs": [
        {
          "output_type": "stream",
          "name": "stdout",
          "text": [
            "Using CUDA: True\n"
          ]
        }
      ],
      "source": [
        "args = Namespace(\n",
        "    # Data and path information\n",
        "    surname_csv=\"surnames_with_splits.csv\",\n",
        "    vectorizer_file=\"rnn_vectorizer.json\",\n",
        "    model_state_file=\"rnn_model.pth\",\n",
        "    #save_dir=\"/content/gdrive/My Drive/CL_Week_5_Materials/\",\n",
        "    save_dir=\".\",\n",
        "    # Model hyper parameter\n",
        "    char_embedding_size=100,\n",
        "    rnn_hidden_size=64,\n",
        "    # Training hyper parameter\n",
        "    num_epochs=100,\n",
        "    learning_rate=1e-3,\n",
        "    batch_size=64,\n",
        "    seed=1337,\n",
        "    early_stopping_criteria=5,\n",
        "    # Runtime hyper parameter\n",
        "    cuda=True,\n",
        "    catch_keyboard_interrupt=True,\n",
        "    reload_from_files=False,\n",
        "    expand_filepaths_to_save_dir=True,\n",
        ")\n",
        "\n",
        "# Check CUDA\n",
        "if not torch.cuda.is_available():\n",
        "    args.cuda = False\n",
        "\n",
        "args.device = torch.device(\"cuda\" if args.cuda else \"cpu\")\n",
        "\n",
        "print(\"Using CUDA: {}\".format(args.cuda))\n",
        "\n",
        "\n",
        "if args.expand_filepaths_to_save_dir:\n",
        "    args.vectorizer_file = os.path.join(args.save_dir,\n",
        "                                        args.vectorizer_file)\n",
        "\n",
        "    args.model_state_file = os.path.join(args.save_dir,\n",
        "                                         args.model_state_file)\n",
        "\n",
        "# Set seed for reproducibility\n",
        "set_seed_everywhere(args.seed, args.cuda)\n",
        "\n",
        "# handle dirs\n",
        "handle_dirs(args.save_dir)"
      ]
    },
    {
      "cell_type": "code",
      "execution_count": 44,
      "metadata": {
        "id": "v5hnZSW9vdVa"
      },
      "outputs": [],
      "source": [
        "if args.reload_from_files and os.path.exists(args.vectorizer_file):\n",
        "    # training from a checkpoint\n",
        "    dataset = SurnameDataset.load_dataset_and_load_vectorizer(args.surname_csv,\n",
        "                                                              args.vectorizer_file)\n",
        "else:\n",
        "    # create dataset and vectorizer\n",
        "    dataset = SurnameDataset.load_dataset_and_make_vectorizer(args.surname_csv)\n",
        "    dataset.save_vectorizer(args.vectorizer_file)\n",
        "\n",
        "vectorizer = dataset.get_vectorizer()\n",
        "\n",
        "classifier = SurnameClassifier(embedding_size=args.char_embedding_size,\n",
        "                               num_embeddings=len(vectorizer.char_vocab),\n",
        "                               num_classes=len(vectorizer.nationality_vocab),\n",
        "                               rnn_hidden_size=args.rnn_hidden_size,\n",
        "                               padding_idx=vectorizer.char_vocab.mask_index)"
      ]
    },
    {
      "cell_type": "code",
      "execution_count": 45,
      "metadata": {
        "id": "tvrPaE9qvjru",
        "outputId": "43f34944-30c0-4be6-86fc-5c7278661266",
        "colab": {
          "base_uri": "https://localhost:8080/"
        }
      },
      "outputs": [
        {
          "output_type": "stream",
          "name": "stderr",
          "text": [
            "<ipython-input-45-4124ae40934c>:2: FutureWarning: You are using `torch.load` with `weights_only=False` (the current default value), which uses the default pickle module implicitly. It is possible to construct malicious pickle data which will execute arbitrary code during unpickling (See https://github.com/pytorch/pytorch/blob/main/SECURITY.md#untrusted-models for more details). In a future release, the default value for `weights_only` will be flipped to `True`. This limits the functions that could be executed during unpickling. Arbitrary objects will no longer be allowed to be loaded via this mode unless they are explicitly allowlisted by the user via `torch.serialization.add_safe_globals`. We recommend you start setting `weights_only=True` for any use case where you don't have full control of the loaded file. Please open an issue on GitHub for any issues related to this experimental feature.\n",
            "  classifier.load_state_dict(torch.load(train_state['model_filename']))\n"
          ]
        },
        {
          "output_type": "stream",
          "name": "stdout",
          "text": [
            "0 2.143035650253296 39.0625\n",
            "1 1.888762652873993 38.28125\n",
            "2 1.9392621914545696 39.0625\n",
            "3 1.9470037519931793 39.84375\n",
            "4 1.8629941463470459 39.6875\n",
            "5 1.8281096418698628 40.625\n",
            "6 1.7701916694641113 41.07142857142857\n",
            "7 1.7318523675203323 41.9921875\n",
            "8 1.6921479172176785 41.84027777777778\n",
            "9 1.7507294416427612 42.03125\n",
            "10 1.757811513814059 43.18181818181818\n",
            "11 1.7099346419175465 43.48958333333333\n",
            "12 1.679400636599614 43.38942307692307\n",
            "13 1.6902715819222585 43.191964285714285\n",
            "14 1.7155992666880289 43.645833333333336\n",
            "15 1.6971231251955032 43.45703125\n",
            "16 1.6860423508812399 43.841911764705884\n",
            "17 1.6939916345808241 43.489583333333336\n",
            "18 1.7035537330727828 43.17434210526316\n",
            "19 1.7012998640537262 43.125\n",
            "20 1.7479482548577445 43.526785714285715\n",
            "21 1.7777093919840725 43.60795454545455\n",
            "22 1.7806581155113552 43.27445652173913\n",
            "23 1.776674598455429 43.1640625\n",
            "24 1.7595501947402954 43.75\n"
          ]
        }
      ],
      "source": [
        "train_state = make_train_state(args)\n",
        "classifier.load_state_dict(torch.load(train_state['model_filename']))\n",
        "\n",
        "classifier = classifier.to(args.device)\n",
        "dataset.class_weights = dataset.class_weights.to(args.device)\n",
        "loss_func = nn.CrossEntropyLoss(dataset.class_weights)\n",
        "\n",
        "dataset.set_split('test')\n",
        "batch_generator = generate_batches(dataset,\n",
        "                                   batch_size=args.batch_size,\n",
        "                                   device=args.device)\n",
        "running_loss = 0.\n",
        "running_acc = 0.\n",
        "classifier.eval()\n",
        "\n",
        "for batch_index, batch_dict in enumerate(batch_generator):\n",
        "    # compute the output\n",
        "    y_pred =  classifier(batch_dict['x_data'],\n",
        "                         x_lengths=batch_dict['x_length'])\n",
        "\n",
        "    # compute the loss\n",
        "    loss = loss_func(y_pred, batch_dict['y_target'])\n",
        "    loss_t = loss.item()\n",
        "    running_loss += (loss_t - running_loss) / (batch_index + 1)\n",
        "\n",
        "    # compute the accuracy\n",
        "    acc_t = compute_accuracy(y_pred, batch_dict['y_target'])\n",
        "    running_acc += (acc_t - running_acc) / (batch_index + 1)\n",
        "    print(str(batch_index) + \" \" + str(running_loss) + \" \" + str(running_acc))\n",
        "\n",
        "train_state['test_loss'] = running_loss\n",
        "train_state['test_acc'] = running_acc"
      ]
    },
    {
      "cell_type": "code",
      "execution_count": 46,
      "metadata": {
        "id": "8oLhhhjIv35V",
        "outputId": "dedc61c6-c02e-468e-89cf-f7ee7fc06378",
        "colab": {
          "base_uri": "https://localhost:8080/"
        }
      },
      "outputs": [
        {
          "output_type": "stream",
          "name": "stdout",
          "text": [
            "Test loss: 1.7595501947402954;\n",
            "Test Accuracy: 43.75\n"
          ]
        }
      ],
      "source": [
        "print(\"Test loss: {};\".format(train_state['test_loss']))\n",
        "print(\"Test Accuracy: {}\".format(train_state['test_acc']))"
      ]
    },
    {
      "cell_type": "code",
      "execution_count": 47,
      "metadata": {
        "id": "1Cv_yNX4xe8D",
        "outputId": "bf70c8dd-c348-4dbb-b1e8-5f2975e8df78",
        "colab": {
          "base_uri": "https://localhost:8080/"
        }
      },
      "outputs": [
        {
          "output_type": "stream",
          "name": "stdout",
          "text": [
            "Enter a surname to classify: Papp\n",
            "Papp -> German (p=0.34)\n"
          ]
        }
      ],
      "source": [
        "new_surname = input(\"Enter a surname to classify: \")\n",
        "classifier = classifier.to(\"cpu\")\n",
        "prediction = predict_nationality_rnn(new_surname, classifier, vectorizer)\n",
        "print(\"{} -> {} (p={:0.2f})\".format(new_surname,\n",
        "                                    prediction['nationality'],\n",
        "                                    prediction['probability']))"
      ]
    },
    {
      "cell_type": "markdown",
      "metadata": {
        "id": "m4pdVerDFnph"
      },
      "source": [
        "If you want to test a few at a time you can put them in a list like this:"
      ]
    },
    {
      "cell_type": "code",
      "execution_count": 48,
      "metadata": {
        "id": "dRWHi4DVv_j2",
        "outputId": "1eeb493b-a900-4a91-dad1-70efe6e2fb1f",
        "colab": {
          "base_uri": "https://localhost:8080/"
        }
      },
      "outputs": [
        {
          "output_type": "stream",
          "name": "stdout",
          "text": [
            "{'nationality': 'Vietnamese', 'probability': 0.2007547914981842, 'surname': 'Lee'}\n",
            "{'nationality': 'Korean', 'probability': 0.5973881483078003, 'surname': 'Kim'}\n",
            "{'nationality': 'Scottish', 'probability': 0.4441013038158417, 'surname': 'Britt'}\n",
            "{'nationality': 'Irish', 'probability': 0.23335354030132294, 'surname': 'Hansen'}\n"
          ]
        }
      ],
      "source": [
        "# surname = input(\"Enter a surname: \")\n",
        "classifier = classifier.to(\"cpu\")\n",
        "for surname in ['Lee', 'Kim', 'Britt', 'Hansen']:\n",
        "    print(predict_nationality_rnn(surname, classifier, vectorizer))"
      ]
    },
    {
      "cell_type": "markdown",
      "metadata": {
        "id": "ZXkiVE3bE0Vr"
      },
      "source": [
        "### Gated Recurrent Unit (GRU)-based classifier\n",
        "\n",
        "We next take a similar approach but instead of a simple RNN we make use of a recurrent neural network with gating. As explained in the lecture this uses gates at each step (of the input, e.g. words or characters) in order to learn what information to pass along through the recurrent connections."
      ]
    },
    {
      "cell_type": "code",
      "execution_count": 49,
      "metadata": {
        "id": "9iwnFO-PE-8x"
      },
      "outputs": [],
      "source": [
        "class GRU(nn.Module):\n",
        "    \"\"\" a GRU network built using the GRU Cell \"\"\"\n",
        "    def __init__(self, input_size, hidden_size, batch_first=False):\n",
        "        \"\"\"\n",
        "        Args:\n",
        "            input_size (int): size of the input vectors\n",
        "            hidden_size (int): size of the hidden state vectors\n",
        "            bathc_first (bool): whether the 0th dimension is batch\n",
        "        \"\"\"\n",
        "        super(GRU, self).__init__()\n",
        "\n",
        "        self.rnn_cell = nn.GRUCell(input_size, hidden_size)\n",
        "\n",
        "        self.batch_first = batch_first\n",
        "        self.hidden_size = hidden_size\n",
        "\n",
        "    def _initial_hidden(self, batch_size):\n",
        "        return torch.zeros((batch_size, self.hidden_size))\n",
        "\n",
        "    def forward(self, x_in, initial_hidden=None):\n",
        "        \"\"\"The forward pass of the GRU\n",
        "\n",
        "        Args:\n",
        "            x_in (torch.Tensor): an input data tensor.\n",
        "                If self.batch_first: x_in.shape = (batch, seq_size, feat_size)\n",
        "                Else: x_in.shape = (seq_size, batch, feat_size)\n",
        "            initial_hidden (torch.Tensor): the initial hidden state for the RNN\n",
        "        Returns:\n",
        "            hiddens (torch.Tensor): The outputs of the RNN at each time step.\n",
        "                If self.batch_first: hiddens.shape = (batch, seq_size, hidden_size)\n",
        "                Else: hiddens.shape = (seq_size, batch, hidden_size)\n",
        "        \"\"\"\n",
        "        if self.batch_first:\n",
        "            batch_size, seq_size, feat_size = x_in.size()\n",
        "            x_in = x_in.permute(1, 0, 2)\n",
        "        else:\n",
        "            seq_size, batch_size, feat_size = x_in.size()\n",
        "\n",
        "        hiddens = []\n",
        "\n",
        "        if initial_hidden is None:\n",
        "            initial_hidden = self._initial_hidden(batch_size)\n",
        "            initial_hidden = initial_hidden.to(x_in.device)\n",
        "\n",
        "        hidden_t = initial_hidden\n",
        "\n",
        "        for t in range(seq_size):\n",
        "            hidden_t = self.rnn_cell(x_in[t], hidden_t)\n",
        "            hiddens.append(hidden_t)\n",
        "\n",
        "        hiddens = torch.stack(hiddens)\n",
        "\n",
        "        if self.batch_first:\n",
        "            hiddens = hiddens.permute(1, 0, 2)\n",
        "\n",
        "        return hiddens\n",
        "\n",
        "\n",
        "\n",
        "class SurnameClassifier(nn.Module):\n",
        "    \"\"\" A Classifier with an RNN to extract features and an MLP to classify \"\"\"\n",
        "    def __init__(self, embedding_size, num_embeddings, num_classes,\n",
        "                 rnn_hidden_size, batch_first=True, padding_idx=0):\n",
        "        \"\"\"\n",
        "        Args:\n",
        "            embedding_size (int): The size of the character embeddings\n",
        "            num_embeddings (int): The number of characters to embed\n",
        "            num_classes (int): The size of the prediction vector\n",
        "                Note: the number of nationalities\n",
        "            rnn_hidden_size (int): The size of the RNN's hidden state\n",
        "            batch_first (bool): Informs whether the input tensors will\n",
        "                have batch or the sequence on the 0th dimension\n",
        "            padding_idx (int): The index for the tensor padding;\n",
        "                see torch.nn.Embedding\n",
        "        \"\"\"\n",
        "        super(SurnameClassifier, self).__init__()\n",
        "\n",
        "        self.emb = nn.Embedding(num_embeddings=num_embeddings,\n",
        "                                embedding_dim=embedding_size,\n",
        "                                padding_idx=padding_idx)\n",
        "        self.rnn = GRU(input_size=embedding_size,\n",
        "                             hidden_size=rnn_hidden_size,\n",
        "                             batch_first=batch_first)\n",
        "        self.fc1 = nn.Linear(in_features=rnn_hidden_size,\n",
        "                         out_features=rnn_hidden_size)\n",
        "        self.fc2 = nn.Linear(in_features=rnn_hidden_size,\n",
        "                          out_features=num_classes)\n",
        "\n",
        "    def forward(self, x_in, x_lengths=None, apply_softmax=False):\n",
        "        \"\"\"The forward pass of the classifier\n",
        "\n",
        "        Args:\n",
        "            x_in (torch.Tensor): an input data tensor.\n",
        "                x_in.shape should be (batch, input_dim)\n",
        "            x_lengths (torch.Tensor): the lengths of each sequence in the batch.\n",
        "                They are used to find the final vector of each sequence\n",
        "            apply_softmax (bool): a flag for the softmax activation\n",
        "                should be false if used with the Cross Entropy losses\n",
        "        Returns:\n",
        "            the resulting tensor. tensor.shape should be (batch, output_dim)\n",
        "        \"\"\"\n",
        "        x_embedded = self.emb(x_in)\n",
        "        y_out = self.rnn(x_embedded)\n",
        "\n",
        "        if x_lengths is not None:\n",
        "            y_out = column_gather(y_out, x_lengths)\n",
        "        else:\n",
        "            y_out = y_out[:, -1, :]\n",
        "\n",
        "        y_out = F.relu(self.fc1(F.dropout(y_out, 0.5)))\n",
        "        y_out = self.fc2(F.dropout(y_out, 0.5))\n",
        "\n",
        "        if apply_softmax:\n",
        "            y_out = F.softmax(y_out, dim=1)\n",
        "\n",
        "        return y_out"
      ]
    },
    {
      "cell_type": "code",
      "execution_count": 50,
      "metadata": {
        "id": "1HQrO220E-_v",
        "outputId": "87ef9968-030b-48cf-ae15-967e478d1d81",
        "colab": {
          "base_uri": "https://localhost:8080/"
        }
      },
      "outputs": [
        {
          "output_type": "stream",
          "name": "stdout",
          "text": [
            "Using CUDA: True\n"
          ]
        }
      ],
      "source": [
        "args = Namespace(\n",
        "    # Data and path information\n",
        "    surname_csv=\"surnames_with_splits.csv\",\n",
        "    vectorizer_file=\"gru_vectorizer.json\",\n",
        "    model_state_file=\"gru_model.pth\",\n",
        "    #save_dir=\"/content/gdrive/My Drive/CL_Week_5_Materials/\",\n",
        "    save_dir=\".\",\n",
        "    # Model hyper parameter\n",
        "    char_embedding_size=100,\n",
        "    rnn_hidden_size=64,\n",
        "    # Training hyper parameter\n",
        "    num_epochs=100,\n",
        "    learning_rate=1e-3,\n",
        "    batch_size=64,\n",
        "    seed=1337,\n",
        "    early_stopping_criteria=5,\n",
        "    # Runtime hyper parameter\n",
        "    cuda=True,\n",
        "    catch_keyboard_interrupt=True,\n",
        "    reload_from_files=False,\n",
        "    expand_filepaths_to_save_dir=True,\n",
        ")\n",
        "\n",
        "# Check CUDA\n",
        "if not torch.cuda.is_available():\n",
        "    args.cuda = False\n",
        "\n",
        "args.device = torch.device(\"cuda\" if args.cuda else \"cpu\")\n",
        "\n",
        "print(\"Using CUDA: {}\".format(args.cuda))\n",
        "\n",
        "\n",
        "if args.expand_filepaths_to_save_dir:\n",
        "    args.vectorizer_file = os.path.join(args.save_dir,\n",
        "                                        args.vectorizer_file)\n",
        "\n",
        "    args.model_state_file = os.path.join(args.save_dir,\n",
        "                                         args.model_state_file)\n",
        "\n",
        "# Set seed for reproducibility\n",
        "set_seed_everywhere(args.seed, args.cuda)\n",
        "\n",
        "# handle dirs\n",
        "handle_dirs(args.save_dir)"
      ]
    },
    {
      "cell_type": "code",
      "execution_count": 51,
      "metadata": {
        "id": "y_NPh5FcHBkj"
      },
      "outputs": [],
      "source": [
        "if args.reload_from_files and os.path.exists(args.vectorizer_file):\n",
        "    # training from a checkpoint\n",
        "    dataset = SurnameDataset.load_dataset_and_load_vectorizer(args.surname_csv,\n",
        "                                                              args.vectorizer_file)\n",
        "else:\n",
        "    # create dataset and vectorizer\n",
        "    dataset = SurnameDataset.load_dataset_and_make_vectorizer(args.surname_csv)\n",
        "    dataset.save_vectorizer(args.vectorizer_file)\n",
        "\n",
        "vectorizer = dataset.get_vectorizer()\n",
        "\n",
        "classifier = SurnameClassifier(embedding_size=args.char_embedding_size,\n",
        "                               num_embeddings=len(vectorizer.char_vocab),\n",
        "                               num_classes=len(vectorizer.nationality_vocab),\n",
        "                               rnn_hidden_size=args.rnn_hidden_size,\n",
        "                               padding_idx=vectorizer.char_vocab.mask_index)"
      ]
    },
    {
      "cell_type": "code",
      "execution_count": 52,
      "metadata": {
        "id": "EW1sauBvHIgN",
        "outputId": "eb559f58-ff3d-4fd5-f1e7-a970899d684e",
        "colab": {
          "base_uri": "https://localhost:8080/"
        }
      },
      "outputs": [
        {
          "output_type": "stream",
          "name": "stderr",
          "text": [
            "<ipython-input-52-4124ae40934c>:2: FutureWarning: You are using `torch.load` with `weights_only=False` (the current default value), which uses the default pickle module implicitly. It is possible to construct malicious pickle data which will execute arbitrary code during unpickling (See https://github.com/pytorch/pytorch/blob/main/SECURITY.md#untrusted-models for more details). In a future release, the default value for `weights_only` will be flipped to `True`. This limits the functions that could be executed during unpickling. Arbitrary objects will no longer be allowed to be loaded via this mode unless they are explicitly allowlisted by the user via `torch.serialization.add_safe_globals`. We recommend you start setting `weights_only=True` for any use case where you don't have full control of the loaded file. Please open an issue on GitHub for any issues related to this experimental feature.\n",
            "  classifier.load_state_dict(torch.load(train_state['model_filename']))\n"
          ]
        },
        {
          "output_type": "stream",
          "name": "stdout",
          "text": [
            "0 1.3395916223526 53.125\n",
            "1 1.5747750997543335 50.78125\n",
            "2 1.4763903220494587 51.5625\n",
            "3 1.72610405087471 50.0\n",
            "4 1.6914704084396361 50.625\n",
            "5 1.6816863616307576 48.4375\n",
            "6 1.756134271621704 47.544642857142854\n",
            "7 1.6988477259874344 47.8515625\n",
            "8 1.6596817837821112 48.09027777777778\n",
            "9 1.7023072600364684 47.34375\n",
            "10 1.7181904315948484 46.73295454545455\n",
            "11 1.7128815750281015 47.005208333333336\n",
            "12 1.680969082392179 46.51442307692308\n",
            "13 1.67059702532632 46.875\n",
            "14 1.6753909667332967 46.770833333333336\n",
            "15 1.688782349228859 47.265625\n",
            "16 1.6794898369733025 47.4264705882353\n",
            "17 1.7322889566421509 47.22222222222223\n",
            "18 1.703621318465785 47.28618421052632\n",
            "19 1.6776250064373015 47.50000000000001\n",
            "20 1.7232159830275036 47.61904761904763\n",
            "21 1.7137401266531511 47.301136363636374\n",
            "22 1.6910144868104355 47.758152173913054\n",
            "23 1.705683747927348 47.85156250000001\n",
            "24 1.6942595577239992 47.62500000000001\n"
          ]
        }
      ],
      "source": [
        "train_state = make_train_state(args)\n",
        "classifier.load_state_dict(torch.load(train_state['model_filename']))\n",
        "\n",
        "classifier = classifier.to(args.device)\n",
        "dataset.class_weights = dataset.class_weights.to(args.device)\n",
        "loss_func = nn.CrossEntropyLoss(dataset.class_weights)\n",
        "\n",
        "dataset.set_split('test')\n",
        "batch_generator = generate_batches(dataset,\n",
        "                                   batch_size=args.batch_size,\n",
        "                                   device=args.device)\n",
        "running_loss = 0.\n",
        "running_acc = 0.\n",
        "classifier.eval()\n",
        "\n",
        "for batch_index, batch_dict in enumerate(batch_generator):\n",
        "    # compute the output\n",
        "    y_pred =  classifier(batch_dict['x_data'],\n",
        "                         x_lengths=batch_dict['x_length'])\n",
        "\n",
        "    # compute the loss\n",
        "    loss = loss_func(y_pred, batch_dict['y_target'])\n",
        "    loss_t = loss.item()\n",
        "    running_loss += (loss_t - running_loss) / (batch_index + 1)\n",
        "\n",
        "    # compute the accuracy\n",
        "    acc_t = compute_accuracy(y_pred, batch_dict['y_target'])\n",
        "    running_acc += (acc_t - running_acc) / (batch_index + 1)\n",
        "    print(str(batch_index) + \" \" + str(running_loss) + \" \" + str(running_acc))\n",
        "\n",
        "train_state['test_loss'] = running_loss\n",
        "train_state['test_acc'] = running_acc"
      ]
    },
    {
      "cell_type": "code",
      "execution_count": 53,
      "metadata": {
        "id": "RupB04stHJgT",
        "outputId": "2680c55a-a327-4e26-d341-53d0595409be",
        "colab": {
          "base_uri": "https://localhost:8080/"
        }
      },
      "outputs": [
        {
          "output_type": "stream",
          "name": "stdout",
          "text": [
            "Test loss: 1.6942595577239992;\n",
            "Test Accuracy: 47.62500000000001\n"
          ]
        }
      ],
      "source": [
        "print(\"Test loss: {};\".format(train_state['test_loss']))\n",
        "print(\"Test Accuracy: {}\".format(train_state['test_acc']))"
      ]
    },
    {
      "cell_type": "code",
      "execution_count": 54,
      "metadata": {
        "id": "4KUhiUdGHUQ5",
        "outputId": "451449ef-43a5-4d29-a349-7e727dc54bd7",
        "colab": {
          "base_uri": "https://localhost:8080/"
        }
      },
      "outputs": [
        {
          "output_type": "stream",
          "name": "stdout",
          "text": [
            "Enter a surname to classify: Papp\n",
            "Papp -> Dutch (p=0.38)\n"
          ]
        }
      ],
      "source": [
        "new_surname = input(\"Enter a surname to classify: \")\n",
        "classifier = classifier.to(\"cpu\")\n",
        "prediction = predict_nationality_rnn(new_surname, classifier, vectorizer)\n",
        "print(\"{} -> {} (p={:0.2f})\".format(new_surname,\n",
        "                                    prediction['nationality'],\n",
        "                                    prediction['probability']))"
      ]
    },
    {
      "cell_type": "markdown",
      "metadata": {
        "id": "EjH9mD5rHnhe"
      },
      "source": [
        "### Unconditioned Generation with Recurrent Neural Networks\n",
        "\n",
        "This actually works very similarly in that it randomly picks each element of the sequence we are generating based on its probability in context. The difference is that the probabilities are based on the softmax output layer in a neural network rather than bigrams.\n",
        "\n",
        "We are going to randomly generate surnames."
      ]
    },
    {
      "cell_type": "code",
      "execution_count": 55,
      "metadata": {
        "id": "faDP0p4bHs3B"
      },
      "outputs": [],
      "source": [
        "from generation_tools import *"
      ]
    },
    {
      "cell_type": "code",
      "execution_count": 56,
      "metadata": {
        "id": "iTrTpUZnHxLU"
      },
      "outputs": [],
      "source": [
        "class SurnameGenerationModel(nn.Module):\n",
        "    def __init__(self, char_embedding_size, char_vocab_size, rnn_hidden_size,\n",
        "                 batch_first=True, padding_idx=0, dropout_p=0.5):\n",
        "        \"\"\"\n",
        "        Args:\n",
        "            char_embedding_size (int): The size of the character embeddings\n",
        "            char_vocab_size (int): The number of characters to embed\n",
        "            rnn_hidden_size (int): The size of the RNN's hidden state\n",
        "            batch_first (bool): Informs whether the input tensors will\n",
        "                have batch or the sequence on the 0th dimension\n",
        "            padding_idx (int): The index for the tensor padding;\n",
        "                see torch.nn.Embedding\n",
        "            dropout_p (float): the probability of zeroing activations using\n",
        "                the dropout method.  higher means more likely to zero.\n",
        "        \"\"\"\n",
        "        super(SurnameGenerationModel, self).__init__()\n",
        "\n",
        "        self.char_emb = nn.Embedding(num_embeddings=char_vocab_size,\n",
        "                                     embedding_dim=char_embedding_size,\n",
        "                                     padding_idx=padding_idx)\n",
        "\n",
        "        self.rnn = nn.GRU(input_size=char_embedding_size,\n",
        "                          hidden_size=rnn_hidden_size,\n",
        "                          batch_first=batch_first)\n",
        "\n",
        "        self.fc = nn.Linear(in_features=rnn_hidden_size,\n",
        "                            out_features=char_vocab_size)\n",
        "\n",
        "        self._dropout_p = dropout_p\n",
        "\n",
        "    def forward(self, x_in, apply_softmax=False):\n",
        "        \"\"\"The forward pass of the model\n",
        "\n",
        "        Args:\n",
        "            x_in (torch.Tensor): an input data tensor.\n",
        "                x_in.shape should be (batch, input_dim)\n",
        "            apply_softmax (bool): a flag for the softmax activation\n",
        "                should be false if used with the Cross Entropy losses\n",
        "        Returns:\n",
        "            the resulting tensor. tensor.shape should be (batch, char_vocab_size)\n",
        "        \"\"\"\n",
        "        x_embedded = self.char_emb(x_in)\n",
        "\n",
        "        y_out, _ = self.rnn(x_embedded)\n",
        "\n",
        "        batch_size, seq_size, feat_size = y_out.shape\n",
        "        y_out = y_out.contiguous().view(batch_size * seq_size, feat_size)\n",
        "\n",
        "        y_out = self.fc(F.dropout(y_out, p=self._dropout_p))\n",
        "\n",
        "        if apply_softmax:\n",
        "            y_out = F.softmax(y_out, dim=1)\n",
        "\n",
        "        new_feat_size = y_out.shape[-1]\n",
        "        y_out = y_out.view(batch_size, seq_size, new_feat_size)\n",
        "\n",
        "        return y_out"
      ]
    },
    {
      "cell_type": "code",
      "execution_count": 57,
      "metadata": {
        "id": "T7andkb_H3yE"
      },
      "outputs": [],
      "source": [
        "def sample_from_model(model, vectorizer, num_samples=1, sample_size=20,\n",
        "                      temperature=1.0):\n",
        "    \"\"\"Sample a sequence of indices from the model\n",
        "\n",
        "    Args:\n",
        "        model (SurnameGenerationModel): the trained model\n",
        "        vectorizer (SurnameVectorizer): the corresponding vectorizer\n",
        "        num_samples (int): the number of samples\n",
        "        sample_size (int): the max length of the samples\n",
        "        temperature (float): accentuates or flattens\n",
        "            the distribution.\n",
        "            0.0 < temperature < 1.0 will make it peakier.\n",
        "            temperature > 1.0 will make it more uniform\n",
        "    Returns:\n",
        "        indices (torch.Tensor): the matrix of indices;\n",
        "        shape = (num_samples, sample_size)\n",
        "    \"\"\"\n",
        "    begin_seq_index = [vectorizer.char_vocab.begin_seq_index\n",
        "                       for _ in range(num_samples)]\n",
        "    begin_seq_index = torch.tensor(begin_seq_index,\n",
        "                                   dtype=torch.int64).unsqueeze(dim=1)\n",
        "    indices = [begin_seq_index]\n",
        "    h_t = None\n",
        "\n",
        "    for time_step in range(sample_size):\n",
        "        x_t = indices[time_step]\n",
        "        x_emb_t = model.char_emb(x_t)\n",
        "        rnn_out_t, h_t = model.rnn(x_emb_t, h_t)\n",
        "        prediction_vector = model.fc(rnn_out_t.squeeze(dim=1))\n",
        "        probability_vector = F.softmax(prediction_vector / temperature, dim=1)\n",
        "        indices.append(torch.multinomial(probability_vector, num_samples=1))\n",
        "    indices = torch.stack(indices).squeeze().permute(1, 0)\n",
        "    return indices\n",
        "\n",
        "def decode_samples(sampled_indices, vectorizer):\n",
        "    \"\"\"Transform indices into the string form of a surname\n",
        "\n",
        "    Args:\n",
        "        sampled_indices (torch.Tensor): the inidces from `sample_from_model`\n",
        "        vectorizer (SurnameVectorizer): the corresponding vectorizer\n",
        "    \"\"\"\n",
        "    decoded_surnames = []\n",
        "    vocab = vectorizer.char_vocab\n",
        "\n",
        "    for sample_index in range(sampled_indices.shape[0]):\n",
        "        surname = \"\"\n",
        "        for time_step in range(sampled_indices.shape[1]):\n",
        "            sample_item = sampled_indices[sample_index, time_step].item()\n",
        "            if sample_item == vocab.begin_seq_index:\n",
        "                continue\n",
        "            elif sample_item == vocab.end_seq_index:\n",
        "                break\n",
        "            else:\n",
        "                surname += vocab.lookup_index(sample_item)\n",
        "        decoded_surnames.append(surname)\n",
        "    return decoded_surnames"
      ]
    },
    {
      "cell_type": "code",
      "execution_count": 58,
      "metadata": {
        "id": "Cirv00CmIFcp",
        "outputId": "9cecba5e-a874-451a-ae3c-85d8631c2971",
        "colab": {
          "base_uri": "https://localhost:8080/"
        }
      },
      "outputs": [
        {
          "output_type": "stream",
          "name": "stdout",
          "text": [
            "Expanded filepaths: \n",
            "\t./ugen_vectorizer.json\n",
            "\t./ugen_model.pth\n",
            "Using CUDA: True\n"
          ]
        }
      ],
      "source": [
        "args = Namespace(\n",
        "    # Data and Path information\n",
        "    surname_csv=\"surnames_with_splits.csv\",\n",
        "    vectorizer_file=\"ugen_vectorizer.json\",\n",
        "    model_state_file=\"ugen_model.pth\",\n",
        "    #save_dir=\"/content/gdrive/My Drive/CL_Week_5_Materials/\",\n",
        "    save_dir=\".\",\n",
        "    # Model hyper parameters\n",
        "    char_embedding_size=32,\n",
        "    rnn_hidden_size=32,\n",
        "    # Training hyper parameters\n",
        "    seed=1337,\n",
        "    learning_rate=0.001,\n",
        "    batch_size=128,\n",
        "    num_epochs=100,\n",
        "    early_stopping_criteria=5,\n",
        "    # Runtime options\n",
        "    catch_keyboard_interrupt=True,\n",
        "    cuda=True,\n",
        "    expand_filepaths_to_save_dir=True,\n",
        "    reload_from_files=False,\n",
        ")\n",
        "\n",
        "if args.expand_filepaths_to_save_dir:\n",
        "    args.vectorizer_file = os.path.join(args.save_dir,\n",
        "                                        args.vectorizer_file)\n",
        "\n",
        "    args.model_state_file = os.path.join(args.save_dir,\n",
        "                                         args.model_state_file)\n",
        "\n",
        "    print(\"Expanded filepaths: \")\n",
        "    print(\"\\t{}\".format(args.vectorizer_file))\n",
        "    print(\"\\t{}\".format(args.model_state_file))\n",
        "\n",
        "\n",
        "# Check CUDA\n",
        "if not torch.cuda.is_available():\n",
        "    args.cuda = False\n",
        "\n",
        "args.device = torch.device(\"cuda\" if args.cuda else \"cpu\")\n",
        "\n",
        "print(\"Using CUDA: {}\".format(args.cuda))\n",
        "\n",
        "# Set seed for reproducibility\n",
        "set_seed_everywhere(args.seed, args.cuda)\n",
        "\n",
        "# handle dirs\n",
        "handle_dirs(args.save_dir)"
      ]
    },
    {
      "cell_type": "code",
      "execution_count": 59,
      "metadata": {
        "id": "txMECyJUIGVq",
        "outputId": "e7727046-51c2-40a9-8bf6-32dbd34a60fd",
        "colab": {
          "base_uri": "https://localhost:8080/"
        }
      },
      "outputs": [
        {
          "output_type": "stream",
          "name": "stderr",
          "text": [
            "<ipython-input-59-94f8ca779a87>:19: FutureWarning: You are using `torch.load` with `weights_only=False` (the current default value), which uses the default pickle module implicitly. It is possible to construct malicious pickle data which will execute arbitrary code during unpickling (See https://github.com/pytorch/pytorch/blob/main/SECURITY.md#untrusted-models for more details). In a future release, the default value for `weights_only` will be flipped to `True`. This limits the functions that could be executed during unpickling. Arbitrary objects will no longer be allowed to be loaded via this mode unless they are explicitly allowlisted by the user via `torch.serialization.add_safe_globals`. We recommend you start setting `weights_only=True` for any use case where you don't have full control of the loaded file. Please open an issue on GitHub for any issues related to this experimental feature.\n",
            "  model.load_state_dict(torch.load(train_state['model_filename']))\n"
          ]
        }
      ],
      "source": [
        "\n",
        "\n",
        "if args.reload_from_files:\n",
        "    # training from a checkpoint\n",
        "    dataset = SurnameDataset.load_dataset_and_load_vectorizer(args.surname_csv,\n",
        "                                                              args.vectorizer_file)\n",
        "else:\n",
        "    # create dataset and vectorizer\n",
        "    dataset = SurnameDataset.load_dataset_and_make_vectorizer(args.surname_csv)\n",
        "    dataset.save_vectorizer(args.vectorizer_file)\n",
        "\n",
        "vectorizer = dataset.get_vectorizer()\n",
        "\n",
        "model = SurnameGenerationModel(char_embedding_size=args.char_embedding_size,\n",
        "                               char_vocab_size=len(vectorizer.char_vocab),\n",
        "                               rnn_hidden_size=args.rnn_hidden_size,\n",
        "                               padding_idx=vectorizer.char_vocab.mask_index)\n",
        "\n",
        "train_state = make_train_state(args)\n",
        "\n",
        "model.load_state_dict(torch.load(train_state['model_filename']))\n",
        "\n",
        "model = model.to(args.device)"
      ]
    },
    {
      "cell_type": "code",
      "execution_count": 60,
      "metadata": {
        "id": "NsPcEUe5IKfI",
        "outputId": "916bf936-dd1e-4221-a8c8-a598cac70407",
        "colab": {
          "base_uri": "https://localhost:8080/"
        }
      },
      "outputs": [
        {
          "output_type": "stream",
          "name": "stdout",
          "text": [
            "---------------\n",
            "Pyinimy\n",
            "Greo\n",
            "Slorchovek\n",
            "Oalnon\n",
            "Dyzysamifki\n",
            "Iil\n",
            "Alenro\n",
            "Vladoe\n",
            "Hhandavkole\n",
            "Yimassrß\n"
          ]
        }
      ],
      "source": [
        "# number of names to generate\n",
        "num_names = 10\n",
        "model = model.cpu()\n",
        "# Generate nationality hidden state\n",
        "sampled_surnames = decode_samples(\n",
        "    sample_from_model(model, vectorizer, num_samples=num_names),\n",
        "    vectorizer)\n",
        "# Show results\n",
        "print (\"-\"*15)\n",
        "for i in range(num_names):\n",
        "    print (sampled_surnames[i])"
      ]
    },
    {
      "cell_type": "markdown",
      "metadata": {
        "id": "W8zGHzgRPxXS"
      },
      "source": [
        "### Conditioned Generation\n",
        "\n",
        "We now repeat this, but we condition the output of the network on something that isn't in the sequence - a target nationality for the surname"
      ]
    },
    {
      "cell_type": "code",
      "execution_count": 61,
      "metadata": {
        "id": "eNNm6G-tP0jq"
      },
      "outputs": [],
      "source": [
        "class SurnameGenerationModel(nn.Module):\n",
        "    def __init__(self, char_embedding_size, char_vocab_size, num_nationalities,\n",
        "                 rnn_hidden_size, batch_first=True, padding_idx=0, dropout_p=0.5):\n",
        "        \"\"\"\n",
        "        Args:\n",
        "            char_embedding_size (int): The size of the character embeddings\n",
        "            char_vocab_size (int): The number of characters to embed\n",
        "            num_nationalities (int): The size of the prediction vector\n",
        "            rnn_hidden_size (int): The size of the RNN's hidden state\n",
        "            batch_first (bool): Informs whether the input tensors will\n",
        "                have batch or the sequence on the 0th dimension\n",
        "            padding_idx (int): The index for the tensor padding;\n",
        "                see torch.nn.Embedding\n",
        "            dropout_p (float): the probability of zeroing activations using\n",
        "                the dropout method.  higher means more likely to zero.\n",
        "        \"\"\"\n",
        "        super(SurnameGenerationModel, self).__init__()\n",
        "\n",
        "        self.char_emb = nn.Embedding(num_embeddings=char_vocab_size,\n",
        "                                     embedding_dim=char_embedding_size,\n",
        "                                     padding_idx=padding_idx)\n",
        "\n",
        "        self.nation_emb = nn.Embedding(num_embeddings=num_nationalities,\n",
        "                                       embedding_dim=rnn_hidden_size)\n",
        "\n",
        "        self.rnn = nn.GRU(input_size=char_embedding_size,\n",
        "                          hidden_size=rnn_hidden_size,\n",
        "                          batch_first=batch_first)\n",
        "\n",
        "        self.fc = nn.Linear(in_features=rnn_hidden_size,\n",
        "                            out_features=char_vocab_size)\n",
        "\n",
        "        self._dropout_p = dropout_p\n",
        "\n",
        "    def forward(self, x_in, nationality_index, apply_softmax=False):\n",
        "        \"\"\"The forward pass of the model\n",
        "\n",
        "        Args:\n",
        "            x_in (torch.Tensor): an input data tensor.\n",
        "                x_in.shape should be (batch, max_seq_size)\n",
        "            nationality_index (torch.Tensor): The index of the nationality for each data point\n",
        "                Used to initialize the hidden state of the RNN\n",
        "            apply_softmax (bool): a flag for the softmax activation\n",
        "                should be false if used with the Cross Entropy losses\n",
        "        Returns:\n",
        "            the resulting tensor. tensor.shape should be (batch, char_vocab_size)\n",
        "        \"\"\"\n",
        "        x_embedded = self.char_emb(x_in)\n",
        "\n",
        "        # hidden_size: (num_layers * num_directions, batch_size, rnn_hidden_size)\n",
        "        nationality_embedded = self.nation_emb(nationality_index).unsqueeze(0)\n",
        "\n",
        "        y_out, _ = self.rnn(x_embedded, nationality_embedded)\n",
        "\n",
        "        batch_size, seq_size, feat_size = y_out.shape\n",
        "        y_out = y_out.contiguous().view(batch_size * seq_size, feat_size)\n",
        "\n",
        "        y_out = self.fc(F.dropout(y_out, p=self._dropout_p))\n",
        "\n",
        "        if apply_softmax:\n",
        "            y_out = F.softmax(y_out, dim=1)\n",
        "\n",
        "        new_feat_size = y_out.shape[-1]\n",
        "        y_out = y_out.view(batch_size, seq_size, new_feat_size)\n",
        "\n",
        "        return y_out"
      ]
    },
    {
      "cell_type": "code",
      "execution_count": 62,
      "metadata": {
        "id": "dRxBaKnoQc6x"
      },
      "outputs": [],
      "source": [
        "def sample_from_model(model, vectorizer, nationalities, sample_size=20,\n",
        "                      temperature=1.0):\n",
        "    \"\"\"Sample a sequence of indices from the model\n",
        "\n",
        "    Args:\n",
        "        model (SurnameGenerationModel): the trained model\n",
        "        vectorizer (SurnameVectorizer): the corresponding vectorizer\n",
        "        nationalities (list): a list of integers representing nationalities\n",
        "        sample_size (int): the max length of the samples\n",
        "        temperature (float): accentuates or flattens\n",
        "            the distribution.\n",
        "            0.0 < temperature < 1.0 will make it peakier.\n",
        "            temperature > 1.0 will make it more uniform\n",
        "    Returns:\n",
        "        indices (torch.Tensor): the matrix of indices;\n",
        "        shape = (num_samples, sample_size)\n",
        "    \"\"\"\n",
        "    num_samples = len(nationalities)\n",
        "    begin_seq_index = [vectorizer.char_vocab.begin_seq_index\n",
        "                       for _ in range(num_samples)]\n",
        "    begin_seq_index = torch.tensor(begin_seq_index,\n",
        "                                   dtype=torch.int64).unsqueeze(dim=1)\n",
        "    indices = [begin_seq_index]\n",
        "    nationality_indices = torch.tensor(nationalities, dtype=torch.int64).unsqueeze(dim=0)\n",
        "    h_t = model.nation_emb(nationality_indices)\n",
        "\n",
        "    for time_step in range(sample_size):\n",
        "        x_t = indices[time_step]\n",
        "        x_emb_t = model.char_emb(x_t)\n",
        "        rnn_out_t, h_t = model.rnn(x_emb_t, h_t)\n",
        "        prediction_vector = model.fc(rnn_out_t.squeeze(dim=1))\n",
        "        probability_vector = F.softmax(prediction_vector / temperature, dim=1)\n",
        "        indices.append(torch.multinomial(probability_vector, num_samples=1))\n",
        "    indices = torch.stack(indices).squeeze().permute(1, 0)\n",
        "    return indices\n",
        "\n",
        "def decode_samples(sampled_indices, vectorizer):\n",
        "    \"\"\"Transform indices into the string form of a surname\n",
        "\n",
        "    Args:\n",
        "        sampled_indices (torch.Tensor): the inidces from `sample_from_model`\n",
        "        vectorizer (SurnameVectorizer): the corresponding vectorizer\n",
        "    \"\"\"\n",
        "    decoded_surnames = []\n",
        "    vocab = vectorizer.char_vocab\n",
        "\n",
        "    for sample_index in range(sampled_indices.shape[0]):\n",
        "        surname = \"\"\n",
        "        for time_step in range(sampled_indices.shape[1]):\n",
        "            sample_item = sampled_indices[sample_index, time_step].item()\n",
        "            if sample_item == vocab.begin_seq_index:\n",
        "                continue\n",
        "            elif sample_item == vocab.end_seq_index:\n",
        "                break\n",
        "            else:\n",
        "                surname += vocab.lookup_index(sample_item)\n",
        "        decoded_surnames.append(surname)\n",
        "    return decoded_surnames"
      ]
    },
    {
      "cell_type": "code",
      "execution_count": 63,
      "metadata": {
        "id": "LhMRf2byTDdY",
        "outputId": "3ee97d18-e15a-4019-e087-dc9eb3aa5263",
        "colab": {
          "base_uri": "https://localhost:8080/"
        }
      },
      "outputs": [
        {
          "output_type": "stream",
          "name": "stdout",
          "text": [
            "Expanded filepaths: \n",
            "\t./cgen_vectorizer.json\n",
            "\t./cgen_model.pth\n",
            "Using CUDA: True\n"
          ]
        }
      ],
      "source": [
        "args = Namespace(\n",
        "    # Data and Path information\n",
        "    surname_csv=\"surnames_with_splits.csv\",\n",
        "    vectorizer_file=\"cgen_vectorizer.json\",\n",
        "    model_state_file=\"cgen_model.pth\",\n",
        "    #save_dir=\"/content/gdrive/My Drive/CL_Week_5_Materials/\",\n",
        "    save_dir=\".\",\n",
        "    # Model hyper parameters\n",
        "    char_embedding_size=32,\n",
        "    rnn_hidden_size=32,\n",
        "    # Training hyper parameters\n",
        "    seed=1337,\n",
        "    learning_rate=0.001,\n",
        "    batch_size=128,\n",
        "    num_epochs=100,\n",
        "    early_stopping_criteria=5,\n",
        "    # Runtime options\n",
        "    catch_keyboard_interrupt=True,\n",
        "    cuda=True,\n",
        "    expand_filepaths_to_save_dir=True,\n",
        "    reload_from_files=False,\n",
        ")\n",
        "\n",
        "if args.expand_filepaths_to_save_dir:\n",
        "    args.vectorizer_file = os.path.join(args.save_dir,\n",
        "                                        args.vectorizer_file)\n",
        "\n",
        "    args.model_state_file = os.path.join(args.save_dir,\n",
        "                                         args.model_state_file)\n",
        "\n",
        "    print(\"Expanded filepaths: \")\n",
        "    print(\"\\t{}\".format(args.vectorizer_file))\n",
        "    print(\"\\t{}\".format(args.model_state_file))\n",
        "\n",
        "# Check CUDA\n",
        "if not torch.cuda.is_available():\n",
        "    args.cuda = False\n",
        "\n",
        "args.device = torch.device(\"cuda\" if args.cuda else \"cpu\")\n",
        "\n",
        "print(\"Using CUDA: {}\".format(args.cuda))\n",
        "\n",
        "# Set seed for reproducibility\n",
        "set_seed_everywhere(args.seed, args.cuda)\n",
        "\n",
        "# handle dirs\n",
        "handle_dirs(args.save_dir)"
      ]
    },
    {
      "cell_type": "code",
      "execution_count": 64,
      "metadata": {
        "id": "Z-wcWeg0S8A3",
        "outputId": "aa4433e3-b507-4217-92d4-414e1b2fe054",
        "colab": {
          "base_uri": "https://localhost:8080/"
        }
      },
      "outputs": [
        {
          "output_type": "stream",
          "name": "stderr",
          "text": [
            "<ipython-input-64-2382c395a1d8>:21: FutureWarning: You are using `torch.load` with `weights_only=False` (the current default value), which uses the default pickle module implicitly. It is possible to construct malicious pickle data which will execute arbitrary code during unpickling (See https://github.com/pytorch/pytorch/blob/main/SECURITY.md#untrusted-models for more details). In a future release, the default value for `weights_only` will be flipped to `True`. This limits the functions that could be executed during unpickling. Arbitrary objects will no longer be allowed to be loaded via this mode unless they are explicitly allowlisted by the user via `torch.serialization.add_safe_globals`. We recommend you start setting `weights_only=True` for any use case where you don't have full control of the loaded file. Please open an issue on GitHub for any issues related to this experimental feature.\n",
            "  model.load_state_dict(torch.load(train_state['model_filename']))\n"
          ]
        }
      ],
      "source": [
        "if args.reload_from_files:\n",
        "    # training from a checkpoint\n",
        "    dataset = SurnameDataset.load_dataset_and_load_vectorizer(args.surname_csv,\n",
        "                                                              args.vectorizer_file)\n",
        "else:\n",
        "    # create dataset and vectorizer\n",
        "    dataset = SurnameDataset.load_dataset_and_make_vectorizer(args.surname_csv)\n",
        "    dataset.save_vectorizer(args.vectorizer_file)\n",
        "\n",
        "vectorizer = dataset.get_vectorizer()\n",
        "\n",
        "model = SurnameGenerationModel(char_embedding_size=args.char_embedding_size,\n",
        "                               char_vocab_size=len(vectorizer.char_vocab),\n",
        "                               num_nationalities=len(vectorizer.nationality_vocab),\n",
        "                               rnn_hidden_size=args.rnn_hidden_size,\n",
        "                               padding_idx=vectorizer.char_vocab.mask_index,\n",
        "                               dropout_p=0.5)\n",
        "\n",
        "train_state = make_train_state(args)\n",
        "\n",
        "model.load_state_dict(torch.load(train_state['model_filename']))\n",
        "\n",
        "model = model.to(args.device)"
      ]
    },
    {
      "cell_type": "code",
      "execution_count": 65,
      "metadata": {
        "id": "MjMXT0FITVN7",
        "outputId": "a8e8a7de-913e-4924-f063-ffaf610c61ef",
        "colab": {
          "base_uri": "https://localhost:8080/"
        }
      },
      "outputs": [
        {
          "output_type": "stream",
          "name": "stdout",
          "text": [
            "Sampled for Arabic: \n",
            "-  Kadan\n",
            "-  Shati\n",
            "-  Bahat\n",
            "Sampled for Chinese: \n",
            "-  Ars\n",
            "-  Doas\n",
            "-  May\n",
            "Sampled for Czech: \n",
            "-  Jottore\n",
            "-  Hatta\n",
            "-  Kucham\n",
            "Sampled for Dutch: \n",
            "-  Rernref\n",
            "-  Kuroens\n",
            "-  Miewe\n",
            "Sampled for English: \n",
            "-  Gorloen\n",
            "-  Aatkev\n",
            "-  Javil\n",
            "Sampled for French: \n",
            "-  Bolstan\n",
            "-  Cerrena\n",
            "-  Reera\n",
            "Sampled for German: \n",
            "-  Pnanter\n",
            "-  Kertk\n",
            "-  Gerschoen\n",
            "Sampled for Greek: \n",
            "-  Radmobucke\n",
            "-  Lalopari\n",
            "-  Keneshora\n",
            "Sampled for Irish: \n",
            "-  Kigns\n",
            "-  Adian\n",
            "-  O'Sebanon\n",
            "Sampled for Italian: \n",
            "-  Archiie\n",
            "-  Actasoer\n",
            "-  Amidi\n",
            "Sampled for Japanese: \n",
            "-  Sarie\n",
            "-  Magi\n",
            "-  Natowames\n",
            "Sampled for Korean: \n",
            "-  Gande\n",
            "-  Pak\n",
            "-  Se\n",
            "Sampled for Polish: \n",
            "-  Pafsortov\n",
            "-  Fujusko\n",
            "-  Rikanav\n",
            "Sampled for Portuguese: \n",
            "-  Tantoy\n",
            "-  Marine\n",
            "-  Bermale\n",
            "Sampled for Russian: \n",
            "-  Abivovan\n",
            "-  Manyanki\n",
            "-  Puchans\n",
            "Sampled for Scottish: \n",
            "-  Ardir\n",
            "-  Amsentchon\n",
            "-  Escher\n",
            "Sampled for Spanish: \n",
            "-  Feoloun\n",
            "-  Aloen\n",
            "-  Adrak\n",
            "Sampled for Vietnamese: \n",
            "-  Mar\n",
            "-  Va\n",
            "-  Choz\n"
          ]
        }
      ],
      "source": [
        "model = model.cpu()\n",
        "for index in range(len(vectorizer.nationality_vocab)):\n",
        "    nationality = vectorizer.nationality_vocab.lookup_index(index)\n",
        "    print(\"Sampled for {}: \".format(nationality))\n",
        "    sampled_indices = sample_from_model(model, vectorizer,\n",
        "                                        nationalities=[index] * 3,\n",
        "                                        temperature=0.7)\n",
        "    for sampled_surname in decode_samples(sampled_indices, vectorizer):\n",
        "        print(\"-  \" + sampled_surname)"
      ]
    }
  ],
  "metadata": {
    "accelerator": "GPU",
    "colab": {
      "provenance": [],
      "include_colab_link": true
    },
    "kernelspec": {
      "display_name": "Python 3 (ipykernel)",
      "language": "python",
      "name": "python3"
    },
    "language_info": {
      "codemirror_mode": {
        "name": "ipython",
        "version": 3
      },
      "file_extension": ".py",
      "mimetype": "text/x-python",
      "name": "python",
      "nbconvert_exporter": "python",
      "pygments_lexer": "ipython3",
      "version": "3.8.12"
    },
    "toc": {
      "colors": {
        "hover_highlight": "#DAA520",
        "running_highlight": "#FF0000",
        "selected_highlight": "#FFD700"
      },
      "moveMenuLeft": true,
      "nav_menu": {
        "height": "156px",
        "width": "252px"
      },
      "navigate_menu": true,
      "number_sections": true,
      "sideBar": true,
      "threshold": "5",
      "toc_cell": false,
      "toc_section_display": "block",
      "toc_window_display": false
    }
  },
  "nbformat": 4,
  "nbformat_minor": 0
}