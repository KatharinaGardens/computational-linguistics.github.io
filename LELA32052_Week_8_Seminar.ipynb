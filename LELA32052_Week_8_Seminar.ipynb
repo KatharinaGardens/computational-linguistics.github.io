{
  "cells": [
    {
      "cell_type": "markdown",
      "metadata": {
        "id": "view-in-github",
        "colab_type": "text"
      },
      "source": [
        "<a href=\"https://colab.research.google.com/github/KatharinaGardens/computational-linguistics.github.io/blob/Week-8/LELA32052_Week_8_Seminar.ipynb\" target=\"_parent\"><img src=\"https://colab.research.google.com/assets/colab-badge.svg\" alt=\"Open In Colab\"/></a>"
      ]
    },
    {
      "cell_type": "markdown",
      "id": "f67beb86",
      "metadata": {
        "id": "f67beb86"
      },
      "source": [
        "# LELA32052 Computational Linguistics Week 8\n",
        "\n",
        "This week we are going first to take a look at the challenge of machine translation.\n",
        "\n",
        "We'll look at German-to-English MT. Here is a set of sentences - the s stands for source and the t for target. Hopefully the translations here will be somewhat transparent to you. The only thing that might not be obvious is the use of \"ja\". This means \"yes\" in some context but is also use to mean something like \"certainly\". So \"das haus ist ja gros\" could be translated as \"the house is certainly big\" but because there isn't a perfect match from ja to certainly it tends to just be omitted in English translation as it is here."
      ]
    },
    {
      "cell_type": "code",
      "execution_count": 1,
      "id": "3558f84d",
      "metadata": {
        "id": "3558f84d"
      },
      "outputs": [],
      "source": [
        "s1='klein ist das haus '\n",
        "t1='the house is small '\n",
        "s2='das haus ist ja groß '\n",
        "t2='the house is big '\n",
        "s3='ja das buch ist klein '\n",
        "t3='yes the book is small '\n",
        "s4='das haus '\n",
        "t4='the house '\n",
        "s5='ein buch '\n",
        "t5='a book '"
      ]
    },
    {
      "cell_type": "markdown",
      "id": "046d8898",
      "metadata": {
        "id": "046d8898"
      },
      "source": [
        "We are going to use the now very familiar re.sub function to perform translation first.\n",
        "The g2e function takes German as input and should output English.\n",
        "\n",
        "Its translation is performed using a series of re.sub functions.\n",
        "\n",
        "First let's take a really naive approach."
      ]
    },
    {
      "cell_type": "code",
      "execution_count": 2,
      "id": "eea8d326",
      "metadata": {
        "id": "eea8d326"
      },
      "outputs": [],
      "source": [
        "import re"
      ]
    },
    {
      "cell_type": "code",
      "execution_count": 3,
      "id": "97f9d62e",
      "metadata": {
        "id": "97f9d62e"
      },
      "outputs": [],
      "source": [
        "def g2e(out):\n",
        "    re.UNICODE\n",
        "    out=re.sub(\"klein \",\"small \",out)\n",
        "    out=re.sub(\"ist \",\"is \",out)\n",
        "    out=re.sub(\"das \",\"the \",out)\n",
        "    out=re.sub(\"haus \",\"house \",out)\n",
        "    out=re.sub(\"groß \",\"big \",out)\n",
        "    out=re.sub(\"buch \",\"book \",out)\n",
        "    out=re.sub(\"ein \",\"a \",out)\n",
        "    out=re.sub(\"ja \",\"yes \",out)\n",
        "\n",
        "    return out\n"
      ]
    },
    {
      "cell_type": "code",
      "execution_count": 4,
      "id": "0a935fa5",
      "metadata": {
        "id": "0a935fa5",
        "colab": {
          "base_uri": "https://localhost:8080/"
        },
        "outputId": "cc764852-1eea-40e9-fb91-2af8050cf99e"
      },
      "outputs": [
        {
          "output_type": "stream",
          "name": "stdout",
          "text": [
            "small is the house \n",
            "the house is yes big \n",
            "yes the book is small \n",
            "the house \n",
            "a book \n"
          ]
        }
      ],
      "source": [
        "print(g2e(s1) + \"\\n\" + g2e(s2)  + \"\\n\" + g2e(s3)  + \"\\n\" + g2e(s4)  + \"\\n\" + g2e(s5))\n"
      ]
    },
    {
      "cell_type": "markdown",
      "id": "f4133082",
      "metadata": {
        "id": "f4133082"
      },
      "source": [
        "That didn't work well. Your job is to change the rules so that the function returns the correct translation.\n",
        "\n",
        "To make your job easier I have marked the part of speech using the following tags, based on what an automatic part of speech tagger would do (we'll look at these and how they work next week).\n",
        "\n",
        "ADJ : adjective\n",
        "AUX : auxiliary verb\n",
        "ART : article/determiner\n",
        "N : noun\n",
        "ADV : adverb\n",
        "\n",
        "You can make use of the tags by matching them and their associated words like this:\n",
        "\n",
        "[^ ]+_ART\n",
        "\n",
        "so if you wrote\n",
        "\n",
        "re.sub(\"([^ ]+)_ART\",\\\\1,out)\n",
        "\n",
        "then it would return an article without its tag."
      ]
    },
    {
      "cell_type": "code",
      "execution_count": 5,
      "id": "3ab5e84f",
      "metadata": {
        "id": "3ab5e84f"
      },
      "outputs": [],
      "source": [
        "s1='klein_ADJ ist_AUX das_ART haus_N'\n",
        "t1='the house is small'\n",
        "s2='das_ART haus_N ist_AUX ja_ADV groß_ADJ '\n",
        "t2='the house is big '\n",
        "s3='ja_ADV das_ART buch_N ist_AUX klein_ADJ'\n",
        "t3='yes the book is small '\n",
        "s4='das_ART haus_N'\n",
        "t4='the house '\n",
        "s5='ein_ART buch_N'\n",
        "t5='a book '"
      ]
    },
    {
      "cell_type": "code",
      "execution_count": 24,
      "id": "7aef0cc9",
      "metadata": {
        "id": "7aef0cc9"
      },
      "outputs": [],
      "source": [
        "def g2e(out):\n",
        "    re.UNICODE\n",
        "    out=re.sub('klein_','small_',out)\n",
        "    out=re.sub('ist_','is_',out)\n",
        "    out=re.sub('das_','the_',out)\n",
        "    out=re.sub('haus_','house_',out)\n",
        "    out=re.sub('ja_','yes_',out)\n",
        "    out=re.sub('groß_','big_',out)\n",
        "    out=re.sub('buch_','book_',out)\n",
        "    out=re.sub('ein_','a_',out)\n",
        "    out=re.sub('([^ ]+_ADJ)( is_AUX )(.+)', '\\\\3\\\\2\\\\1',out) #added to handle english predication order\n",
        "    out=re.sub('(yes_ADV) ([^ ]+_ADJ)', '\\\\2',out) #added to handle the ja gros case - doesn't capture cases with yes meaning\n",
        "\n",
        "\n",
        "    out = re.sub(\"_[^ ]+\",\"\",out)\n",
        "    return out\n"
      ]
    },
    {
      "cell_type": "code",
      "execution_count": 25,
      "id": "971a6b9f",
      "metadata": {
        "id": "971a6b9f",
        "colab": {
          "base_uri": "https://localhost:8080/"
        },
        "outputId": "07e69a9f-9a7e-433d-b3a1-3f70ce24f1cc"
      },
      "outputs": [
        {
          "output_type": "stream",
          "name": "stdout",
          "text": [
            "the house is small\n",
            "the house is big \n",
            "yes the book is small\n",
            "the house\n",
            "a book\n"
          ]
        }
      ],
      "source": [
        "print(g2e(s1) + \"\\n\" + g2e(s2)  + \"\\n\" + g2e(s3)  + \"\\n\" + g2e(s4)  + \"\\n\" + g2e(s5))"
      ]
    },
    {
      "cell_type": "markdown",
      "id": "63b854c4",
      "metadata": {
        "id": "63b854c4"
      },
      "source": [
        "### Another sentence set to explore\n",
        "\n",
        "Update the below function to translate these sentence pairs in as few a set of rules as possible"
      ]
    },
    {
      "cell_type": "code",
      "execution_count": 54,
      "id": "b424ef28",
      "metadata": {
        "id": "b424ef28"
      },
      "outputs": [],
      "source": [
        "s1=\"der_ART mann_N hat_AUX fußball_N gespielt_V\"\n",
        "t1=\"the man played football\"\n",
        "s2=\"der_ART mann_N spielt_V fußball_N\"\n",
        "t2=\"the man plays football\"\n",
        "s3=\"der_ART mann_N hat_AUX kartoffeln_N gekocht_V\"\n",
        "t3=\"the man cooked potatoes\"\n",
        "s4=\"der_ART mann_N kocht_V kartoffeln_N\"\n",
        "t4=\"the man cooks potatoes\""
      ]
    },
    {
      "cell_type": "code",
      "execution_count": 66,
      "id": "f9399c0c",
      "metadata": {
        "id": "f9399c0c"
      },
      "outputs": [],
      "source": [
        "def g2e(out):\n",
        "    re.UNICODE\n",
        "    #vocabulary rules\n",
        "    out=re.sub('der_','the_',out)\n",
        "    out=re.sub('mann_','man_',out)\n",
        "    out=re.sub(' hat_AUX','',out) #gets rid of hat\n",
        "    out=re.sub('fußball_','football_',out)\n",
        "    out=re.sub('gespielt_', 'played_', out) #fixes the improper past tense\n",
        "    out=re.sub('spielt_','plays_',out)\n",
        "    out=re.sub('gekocht_', 'cooked_', out) #fixes the improper past tense pt 2\n",
        "    out=re.sub('kocht_','cooks_',out)\n",
        "    out=re.sub('kartoffeln_','potatoes_',out)\n",
        "    out=re.sub('gerne','likes',out) #initialize gerne\n",
        "\n",
        "    #grammatical rules\n",
        "    out=re.sub('([^ ]+_N) ([^ ]+_N) ([^ ]+_V)', '\\\\1 \\\\3 \\\\2',out) #fixes word order - maintaining proper noun positioning\n",
        "    out=re.sub('([^ ]+)s_V ([^ ]+_ADV) ([^ ]+_N)','\\\\2 \\\\1ing_V \\\\3',out) #fixes complicated sentence with gerne 1\n",
        "    out=re.sub('([^ ]+)s_ADV ([^ ]+_N) ([^ ]+)ed_V','\\\\1d to_ART \\\\3_V \\\\2',out) #fixes complicated sentence with gerne 2\n",
        "\n",
        "    #removing tags\n",
        "    out = re.sub(\"_[^ ]+\",\"\",out)\n",
        "    return out"
      ]
    },
    {
      "cell_type": "code",
      "execution_count": 67,
      "id": "53844734",
      "metadata": {
        "id": "53844734",
        "colab": {
          "base_uri": "https://localhost:8080/"
        },
        "outputId": "5d7278cd-8c16-4566-afe0-a655de2d01ec"
      },
      "outputs": [
        {
          "output_type": "stream",
          "name": "stdout",
          "text": [
            "the man played football\n",
            "the man plays football\n",
            "the man cooked potatoes\n",
            "the man cooks potatoes\n",
            "\n"
          ]
        }
      ],
      "source": [
        "print(g2e(s1) + \"\\n\" + g2e(s2)  + \"\\n\" + g2e(s3)  + \"\\n\" + g2e(s4)  + \"\\n\")"
      ]
    },
    {
      "cell_type": "markdown",
      "id": "c4f8d761",
      "metadata": {
        "id": "c4f8d761"
      },
      "source": [
        "And if you are really feeling brave, try accounting for these too:"
      ]
    },
    {
      "cell_type": "code",
      "execution_count": 45,
      "id": "81fc272b",
      "metadata": {
        "id": "81fc272b"
      },
      "outputs": [],
      "source": [
        "s5=\"der_ART mann_N spielt_V gerne_ADV fußball_N\"\n",
        "t5=\"the man likes playing football\"\n",
        "s6=\"der_ART mann_N hat_AUX gerne_ADV fußball_N gespielt_V\"\n",
        "t6=\"the man liked to play football\""
      ]
    },
    {
      "cell_type": "code",
      "source": [
        "print(g2e(s5) + \"\\n\" + g2e(s6)  + \"\\n\" )"
      ],
      "metadata": {
        "colab": {
          "base_uri": "https://localhost:8080/"
        },
        "id": "mg2kemn48_UU",
        "outputId": "c92ed879-0a78-4afd-d82e-8aea5b528912"
      },
      "id": "mg2kemn48_UU",
      "execution_count": 68,
      "outputs": [
        {
          "output_type": "stream",
          "name": "stdout",
          "text": [
            "the man likes playing football\n",
            "the man liked to play football\n",
            "\n"
          ]
        }
      ]
    },
    {
      "cell_type": "markdown",
      "id": "e4966dc4",
      "metadata": {
        "id": "e4966dc4"
      },
      "source": [
        "## Statistical machine translation\n",
        "\n",
        "We will look next at statistical machine translation. NLTK has some built in tools for this that we can make use of."
      ]
    },
    {
      "cell_type": "markdown",
      "id": "f20078e6",
      "metadata": {
        "id": "f20078e6"
      },
      "source": [
        "To make sure we have latest version of nltk let's install and then restart runtime."
      ]
    },
    {
      "cell_type": "code",
      "execution_count": 69,
      "id": "7d031ebc",
      "metadata": {
        "id": "7d031ebc",
        "colab": {
          "base_uri": "https://localhost:8080/"
        },
        "outputId": "740ad620-945c-4bba-8e2e-033bc369f333"
      },
      "outputs": [
        {
          "output_type": "stream",
          "name": "stdout",
          "text": [
            "Requirement already satisfied: nltk in /usr/local/lib/python3.11/dist-packages (3.9.1)\n",
            "Requirement already satisfied: click in /usr/local/lib/python3.11/dist-packages (from nltk) (8.1.8)\n",
            "Requirement already satisfied: joblib in /usr/local/lib/python3.11/dist-packages (from nltk) (1.4.2)\n",
            "Requirement already satisfied: regex>=2021.8.3 in /usr/local/lib/python3.11/dist-packages (from nltk) (2024.11.6)\n",
            "Requirement already satisfied: tqdm in /usr/local/lib/python3.11/dist-packages (from nltk) (4.67.1)\n"
          ]
        }
      ],
      "source": [
        "!pip install --user -U nltk"
      ]
    },
    {
      "cell_type": "code",
      "execution_count": 70,
      "id": "d5296b31",
      "metadata": {
        "id": "d5296b31",
        "colab": {
          "base_uri": "https://localhost:8080/"
        },
        "outputId": "6518e13e-019e-4dd2-a584-3970d30c9ce7"
      },
      "outputs": [
        {
          "output_type": "stream",
          "name": "stderr",
          "text": [
            "[nltk_data] Downloading package punkt to /root/nltk_data...\n",
            "[nltk_data]   Unzipping tokenizers/punkt.zip.\n",
            "[nltk_data] Downloading package punkt_tab to /root/nltk_data...\n",
            "[nltk_data]   Unzipping tokenizers/punkt_tab.zip.\n"
          ]
        }
      ],
      "source": [
        "import nltk\n",
        "nltk.download('punkt')\n",
        "nltk.download('punkt_tab')\n",
        "import math\n",
        "from nltk import AlignedSent\n",
        "from nltk import IBMModel3"
      ]
    },
    {
      "cell_type": "markdown",
      "id": "73d121b3",
      "metadata": {
        "id": "73d121b3"
      },
      "source": [
        "### Build a translation table\n",
        "\n",
        "We start by performing alignment and building a translation table"
      ]
    },
    {
      "cell_type": "code",
      "execution_count": 71,
      "id": "436a15f7",
      "metadata": {
        "id": "436a15f7"
      },
      "outputs": [],
      "source": [
        "s1='klein ist das haus'\n",
        "t1='the house is small'\n",
        "s2='das haus ist ja groß'\n",
        "t2='the house is big'\n",
        "s3='das buch ist klein'\n",
        "t3='the book is small'\n",
        "s4='das buch'\n",
        "t4='the book'\n",
        "s4='das house'\n",
        "t4='the house'"
      ]
    },
    {
      "cell_type": "code",
      "execution_count": 72,
      "id": "df909497",
      "metadata": {
        "id": "df909497"
      },
      "outputs": [],
      "source": [
        "parallel_corpus = []\n",
        "parallel_corpus.append(AlignedSent(nltk.word_tokenize(s1),nltk.word_tokenize(t1)))\n",
        "parallel_corpus.append(AlignedSent(nltk.word_tokenize(s2),nltk.word_tokenize(t2)))\n",
        "parallel_corpus.append(AlignedSent(nltk.word_tokenize(s3),nltk.word_tokenize(t3)))\n",
        "parallel_corpus.append(AlignedSent(nltk.word_tokenize(s4),nltk.word_tokenize(t4)))"
      ]
    },
    {
      "cell_type": "code",
      "execution_count": 73,
      "id": "0036531c",
      "metadata": {
        "id": "0036531c"
      },
      "outputs": [],
      "source": [
        "ibm3 = IBMModel3(parallel_corpus, 50)"
      ]
    },
    {
      "cell_type": "code",
      "execution_count": 74,
      "id": "ed35a053",
      "metadata": {
        "id": "ed35a053",
        "colab": {
          "base_uri": "https://localhost:8080/"
        },
        "outputId": "720e82d7-5666-406f-c176-c6b5c899cfe9"
      },
      "outputs": [
        {
          "output_type": "execute_result",
          "data": {
            "text/plain": [
              "defaultdict(<function nltk.translate.ibm_model.IBMModel.reset_probabilities.<locals>.<lambda>.<locals>.<lambda>()>,\n",
              "            {'house': 0.6666666655073329,\n",
              "             'is': 3.280000051417293e-10,\n",
              "             'the': 2.460000038439765e-10,\n",
              "             'small': 2.8800000428320153e-10,\n",
              "             None: 0.1652218257503104,\n",
              "             'big': 2.700000047108661e-10})"
            ]
          },
          "metadata": {},
          "execution_count": 74
        }
      ],
      "source": [
        "ibm3.translation_table['haus']"
      ]
    },
    {
      "cell_type": "markdown",
      "id": "2565389e",
      "metadata": {
        "id": "2565389e"
      },
      "source": [
        "You can download and train on a larger aligned corpus by running this code (but beware it will take quite a while):\n",
        "\n",
        "import nltk <br>\n",
        "nltk.download('comtrans') <br>\n",
        "ende=comtrans.aligned_sents('alignment-de-en.txt') <br>\n",
        "ende_subset = ende[1:100] <br>\n",
        "ibm3 = IBMModel3(ende_subset, 2) <br>"
      ]
    },
    {
      "cell_type": "code",
      "execution_count": 75,
      "id": "3d0d9a30",
      "metadata": {
        "id": "3d0d9a30"
      },
      "outputs": [],
      "source": [
        "phrase_table = nltk.translate.PhraseTable()\n",
        "for triple in ibm3.translation_table.items():\n",
        "      for i in triple[1].items():\n",
        "            phrase_table.add((triple[0],),(i[0],),math.log(i[1]))\n"
      ]
    },
    {
      "cell_type": "code",
      "execution_count": 76,
      "id": "09f93b45",
      "metadata": {
        "id": "09f93b45",
        "colab": {
          "base_uri": "https://localhost:8080/"
        },
        "outputId": "092932fe-e573-4b23-c599-c1b767924c8b"
      },
      "outputs": [
        {
          "output_type": "execute_result",
          "data": {
            "text/plain": [
              "[PhraseTableEntry(trg_phrase=('is',), log_prob=-1.5040005918661971e-09),\n",
              " PhraseTableEntry(trg_phrase=(None,), log_prob=-1.4675276464888576),\n",
              " PhraseTableEntry(trg_phrase=('small',), log_prob=-21.457234998263182),\n",
              " PhraseTableEntry(trg_phrase=('book',), log_prob=-21.680378551304575),\n",
              " PhraseTableEntry(trg_phrase=('the',), log_prob=-21.796210364274806),\n",
              " PhraseTableEntry(trg_phrase=('house',), log_prob=-21.83800749195073),\n",
              " PhraseTableEntry(trg_phrase=('big',), log_prob=-22.03259913948252)]"
            ]
          },
          "metadata": {},
          "execution_count": 76
        }
      ],
      "source": [
        "phrase_table.translations_for(('ist',))"
      ]
    },
    {
      "cell_type": "markdown",
      "id": "daa04f8f",
      "metadata": {
        "id": "daa04f8f"
      },
      "source": [
        "### Build a probabilistic language model\n",
        "\n",
        "We will use the collected works of Jane Austen here, but in real systems you would want to use a larger and more representative corpus."
      ]
    },
    {
      "cell_type": "code",
      "execution_count": 77,
      "id": "dad1862e",
      "metadata": {
        "id": "dad1862e",
        "colab": {
          "base_uri": "https://localhost:8080/"
        },
        "outputId": "c26ed063-1fea-48dd-db4e-5bdb507b3503"
      },
      "outputs": [
        {
          "output_type": "stream",
          "name": "stdout",
          "text": [
            "--2025-03-17 17:15:28--  https://www.gutenberg.org/files/31100/31100.txt\n",
            "Resolving www.gutenberg.org (www.gutenberg.org)... 152.19.134.47, 2610:28:3090:3000:0:bad:cafe:47\n",
            "Connecting to www.gutenberg.org (www.gutenberg.org)|152.19.134.47|:443... connected.\n",
            "HTTP request sent, awaiting response... 200 OK\n",
            "Length: 4454075 (4.2M) [text/plain]\n",
            "Saving to: ‘31100.txt’\n",
            "\n",
            "31100.txt           100%[===================>]   4.25M  9.17MB/s    in 0.5s    \n",
            "\n",
            "2025-03-17 17:15:29 (9.17 MB/s) - ‘31100.txt’ saved [4454075/4454075]\n",
            "\n"
          ]
        }
      ],
      "source": [
        "!wget https://www.gutenberg.org/files/31100/31100.txt\n",
        "f = open('31100.txt',\"r\",encoding='windows-1252')\n",
        "text = f.read()\n",
        "text = text + \"\\n\" + t1 + \"\\n\" + t2 + \"\\n\" + t3 + \"\\n\" + t4 + \"\\n\"\n",
        "tokenized_text = [list(map(str.lower, nltk.word_tokenize(sent)))\n",
        "                  for sent in nltk.sent_tokenize(text)]"
      ]
    },
    {
      "cell_type": "code",
      "execution_count": 78,
      "id": "2fb5897d",
      "metadata": {
        "id": "2fb5897d"
      },
      "outputs": [],
      "source": [
        "import nltk.lm.preprocessing\n",
        "n = 3\n",
        "train_data, padded_sents = nltk.lm.preprocessing.padded_everygram_pipeline(n, tokenized_text)"
      ]
    },
    {
      "cell_type": "code",
      "execution_count": 79,
      "id": "b0c13a91",
      "metadata": {
        "id": "b0c13a91"
      },
      "outputs": [],
      "source": [
        "from nltk.lm import MLE\n",
        "model = MLE(n)"
      ]
    },
    {
      "cell_type": "code",
      "execution_count": 80,
      "id": "64259e6c",
      "metadata": {
        "id": "64259e6c"
      },
      "outputs": [],
      "source": [
        "model.fit(train_data, padded_sents)\n"
      ]
    },
    {
      "cell_type": "code",
      "execution_count": 85,
      "id": "e41ec69b",
      "metadata": {
        "id": "e41ec69b",
        "colab": {
          "base_uri": "https://localhost:8080/"
        },
        "outputId": "4f7ed495-2d2e-4cb6-cc58-1e6549466705"
      },
      "outputs": [
        {
          "output_type": "execute_result",
          "data": {
            "text/plain": [
              "['that', 'moment', 'i', 'can', 'be', 'any', 'longer', '.']"
            ]
          },
          "metadata": {},
          "execution_count": 85
        }
      ],
      "source": [
        "model.generate(8)"
      ]
    },
    {
      "cell_type": "code",
      "execution_count": 86,
      "id": "9eb9dec4",
      "metadata": {
        "id": "9eb9dec4"
      },
      "outputs": [],
      "source": [
        "from collections import defaultdict\n",
        "language_prob = defaultdict(lambda: -99.0)\n",
        "for t in nltk.ngrams(nltk.word_tokenize(t1 + \" \" + t2 + \" \" + t3 + \" \" + t4),3):\n",
        "    if model.logscore(t[2],[t[0],t[1]]) < 0:\n",
        "        language_prob[t] = model.logscore(t[2],[t[0],t[1]])\n",
        "    else:\n",
        "        language_prob[t] = -999\n",
        "language_model = type('',(object,),{'probability_change': lambda self, context, phrase: language_prob[phrase], 'probability': lambda self, phrase: language_prob[phrase]})()"
      ]
    },
    {
      "cell_type": "code",
      "execution_count": 87,
      "id": "dea94e91",
      "metadata": {
        "id": "dea94e91",
        "colab": {
          "base_uri": "https://localhost:8080/"
        },
        "outputId": "fb3337c8-f713-4f58-fe1f-284bfaf3f868"
      },
      "outputs": [
        {
          "output_type": "execute_result",
          "data": {
            "text/plain": [
              "dict_items([(('the', 'house', 'is'), -5.9734582125475075), (('house', 'is', 'small'), -2.8073549220576046), (('is', 'small', 'the'), -999), (('small', 'the', 'house'), -999), (('house', 'is', 'big'), -2.8073549220576046), (('is', 'big', 'the'), -999), (('big', 'the', 'book'), -999), (('the', 'book', 'is'), -4.643856189774724), (('book', 'is', 'small'), -999)])"
            ]
          },
          "metadata": {},
          "execution_count": 87
        }
      ],
      "source": [
        "language_prob.items()"
      ]
    },
    {
      "cell_type": "markdown",
      "id": "828b0d60",
      "metadata": {
        "id": "828b0d60"
      },
      "source": [
        "### Combine with translation model to perform decoding\n"
      ]
    },
    {
      "cell_type": "code",
      "execution_count": 88,
      "id": "15a6a394",
      "metadata": {
        "id": "15a6a394"
      },
      "outputs": [],
      "source": [
        "stack_decoder = nltk.translate.StackDecoder(phrase_table, language_model)"
      ]
    },
    {
      "cell_type": "code",
      "execution_count": 89,
      "id": "ab246ab2",
      "metadata": {
        "id": "ab246ab2"
      },
      "outputs": [],
      "source": [
        "stack_decoder.distortion_factor = 1\n",
        "stack_decoder.word_penalty = 0"
      ]
    },
    {
      "cell_type": "code",
      "execution_count": 90,
      "id": "7ba822b5",
      "metadata": {
        "id": "7ba822b5",
        "colab": {
          "base_uri": "https://localhost:8080/"
        },
        "outputId": "654b6196-2298-462d-dfbe-5dfc6760b840"
      },
      "outputs": [
        {
          "output_type": "execute_result",
          "data": {
            "text/plain": [
              "['the', 'is', 'big', 'house']"
            ]
          },
          "metadata": {},
          "execution_count": 90
        }
      ],
      "source": [
        "stack_decoder.translate(nltk.word_tokenize(\"das haus ist groß\"))"
      ]
    },
    {
      "cell_type": "code",
      "execution_count": 91,
      "id": "064b5564",
      "metadata": {
        "id": "064b5564",
        "colab": {
          "base_uri": "https://localhost:8080/"
        },
        "outputId": "356e3da2-447d-49b8-9023-7a8608819d3b"
      },
      "outputs": [
        {
          "output_type": "execute_result",
          "data": {
            "text/plain": [
              "['small', 'the', 'is', 'house']"
            ]
          },
          "metadata": {},
          "execution_count": 91
        }
      ],
      "source": [
        "stack_decoder.translate(nltk.word_tokenize(\"klein ist das haus\"))"
      ]
    }
  ],
  "metadata": {
    "colab": {
      "name": "Week_8_Seminar.ipynb",
      "provenance": [],
      "include_colab_link": true
    },
    "kernelspec": {
      "display_name": "Python 3 (ipykernel)",
      "language": "python",
      "name": "python3"
    },
    "language_info": {
      "codemirror_mode": {
        "name": "ipython",
        "version": 3
      },
      "file_extension": ".py",
      "mimetype": "text/x-python",
      "name": "python",
      "nbconvert_exporter": "python",
      "pygments_lexer": "ipython3",
      "version": "3.8.12"
    }
  },
  "nbformat": 4,
  "nbformat_minor": 5
}