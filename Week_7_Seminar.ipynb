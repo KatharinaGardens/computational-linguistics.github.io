{
  "cells": [
    {
      "cell_type": "markdown",
      "metadata": {
        "id": "view-in-github",
        "colab_type": "text"
      },
      "source": [
        "<a href=\"https://colab.research.google.com/github/KatharinaGardens/computational-linguistics.github.io/blob/Week-7/Week_7_Seminar.ipynb\" target=\"_parent\"><img src=\"https://colab.research.google.com/assets/colab-badge.svg\" alt=\"Open In Colab\"/></a>"
      ]
    },
    {
      "cell_type": "markdown",
      "metadata": {
        "id": "ag1DD6P8qBVx"
      },
      "source": [
        "# LELA32051 Computational Linguistics Week 7\n",
        "\n",
        "This week we are going to take a look at dialogue systems - first at chatbots and then at task-based dialogue systems."
      ]
    },
    {
      "cell_type": "markdown",
      "metadata": {
        "id": "zPbNBNRU3soq"
      },
      "source": [
        "## Rule-based chatbot: Eliza"
      ]
    },
    {
      "cell_type": "markdown",
      "metadata": {
        "id": "EqApcwI73sor"
      },
      "source": [
        "As described in this week's lecture, Eliza is a chatbot that simulates a Rogerian therapist, making use of a set of rules in the form of regular expressions. At the heart of Eliza are the substitution function (re.sub in Python) and grouping. We'll start with a quick recap as to what these are.\n",
        "\n",
        "We need to import the Regular Expressions module in Python."
      ]
    },
    {
      "cell_type": "code",
      "execution_count": 1,
      "metadata": {
        "id": "s93lrLpm3sor"
      },
      "outputs": [],
      "source": [
        "import re"
      ]
    },
    {
      "cell_type": "markdown",
      "metadata": {
        "id": "Pk1wG59t3sos"
      },
      "source": [
        "This gives as access to the very useful function re.sub."
      ]
    },
    {
      "cell_type": "markdown",
      "metadata": {
        "tags": [],
        "id": "0otwKAex3sos"
      },
      "source": [
        "### re.sub()\n",
        "\n",
        "This finds all occurences of a given sequence and replaces it with a sequence provided:"
      ]
    },
    {
      "cell_type": "code",
      "execution_count": 2,
      "metadata": {
        "id": "mq4gmf-u3sot",
        "colab": {
          "base_uri": "https://localhost:8080/",
          "height": 35
        },
        "outputId": "72969146-d181-48c4-d37b-1356dda394b7"
      },
      "outputs": [
        {
          "output_type": "execute_result",
          "data": {
            "text/plain": [
              "'walking'"
            ],
            "application/vnd.google.colaboratory.intrinsic+json": {
              "type": "string"
            }
          },
          "metadata": {},
          "execution_count": 2
        }
      ],
      "source": [
        "utt = 'walked'\n",
        "re.sub('ed','ing',utt)"
      ]
    },
    {
      "cell_type": "markdown",
      "metadata": {
        "id": "eXxTxkt53sot"
      },
      "source": [
        "### Groups\n",
        "\n",
        "Grouping is a very powerful technique for picking out substrings from a string that matches a specified pattern. Parentheses are used to indicate the start and end of the substring. It is very powerful when combined with substitution.\n",
        "\n",
        "You can use parentheses to capture a particular substring within a pattern and then use it in your replacement string within sub. For example:\n"
      ]
    },
    {
      "cell_type": "code",
      "execution_count": 3,
      "metadata": {
        "scrolled": true,
        "id": "d8d-MXoZ3sou",
        "colab": {
          "base_uri": "https://localhost:8080/",
          "height": 35
        },
        "outputId": "5025ed15-adea-49f4-81e3-3f7ac3a5c7be"
      },
      "outputs": [
        {
          "output_type": "execute_result",
          "data": {
            "text/plain": [
              "'procrastinated'"
            ],
            "application/vnd.google.colaboratory.intrinsic+json": {
              "type": "string"
            }
          },
          "metadata": {},
          "execution_count": 3
        }
      ],
      "source": [
        "utt = \"procrastinating\"\n",
        "re.sub('([a-z]+)ing','\\\\1ed',utt)"
      ]
    },
    {
      "cell_type": "code",
      "source": [
        "utt = \"procrastinating on my homework\"\n",
        "utt = re.sub('([a-z]+ing)(.+)','Why are you \\\\1\\\\2?',utt)\n",
        "re.sub('my','your',utt)"
      ],
      "metadata": {
        "colab": {
          "base_uri": "https://localhost:8080/",
          "height": 35
        },
        "id": "ZizUMtOz0WtC",
        "outputId": "0144221f-a266-4e82-907d-09536bf0f4b7"
      },
      "execution_count": 11,
      "outputs": [
        {
          "output_type": "execute_result",
          "data": {
            "text/plain": [
              "'Why are you procrastinating on your homework?'"
            ],
            "application/vnd.google.colaboratory.intrinsic+json": {
              "type": "string"
            }
          },
          "metadata": {},
          "execution_count": 11
        }
      ]
    },
    {
      "cell_type": "markdown",
      "metadata": {
        "id": "UxHCnYk43sov"
      },
      "source": [
        "## A very simple Elizabot\n",
        "\n",
        "The code below implements a very simple Eliza. The function respond takes an utterance as input and using re.sub to generate responses. The loop below the function creates a simple interface that takes user input and prints the response.\n",
        "\n",
        "We can extend Eliza's ability by adding additional rules."
      ]
    },
    {
      "cell_type": "code",
      "execution_count": 75,
      "metadata": {
        "id": "bFv8yrpylNuU"
      },
      "outputs": [],
      "source": [
        "def respond(utt):\n",
        "  utt = re.sub('hello my name is (.+)','Hello \\\\1, my name is Eliza. How are you feeling today?', utt)\n",
        "  utt = re.sub('i am feeling (.+ )*(.+)', 'Do you often feel \\\\2?',utt)\n",
        "  utt = re.sub('yes since i (.+)ed(.+)', 'Can you tell me about \\\\1ing\\\\2?',utt)\n",
        "  utt = re.sub('my ([^name])', 'your \\\\1', utt)\n",
        "  return utt"
      ]
    },
    {
      "cell_type": "code",
      "execution_count": 76,
      "metadata": {
        "id": "dcIjRBRKlKfi",
        "colab": {
          "base_uri": "https://localhost:8080/"
        },
        "outputId": "e6e1c3ec-7cc8-4c15-b9f0-38a559c6d06f"
      },
      "outputs": [
        {
          "name": "stdout",
          "output_type": "stream",
          "text": [
            "> yes since i changed my job\n",
            "Can you tell me about changing your job?\n",
            "> goodbye\n"
          ]
        }
      ],
      "source": [
        "utt = \"\"\n",
        "while utt != 'goodbye':\n",
        "    utt = input('> ')\n",
        "    reply = respond(utt)\n",
        "    if reply != utt:\n",
        "        print(reply)\n",
        "    else:\n",
        "        if utt != \"goodbye\":\n",
        "            print(\"Can you rephrase that?\")"
      ]
    },
    {
      "cell_type": "markdown",
      "metadata": {
        "id": "YUEniCI2qK-X"
      },
      "source": [
        "### Activity\n",
        "\n",
        "Add patterns (using substitutions and grouping) to the respond function that will allow Eliza to conduct both of these conversations. Test your system by conducting the conversation with Eliza.\n",
        "\n",
        "User: hello my name is emma <br>\n",
        "Eliza: Hello emma my name is Eliza. How are you feeling today? <br>\n",
        "User: i am feeling very happy <br>\n",
        "Eliza: Do you often feel happy? <br>\n",
        "User: yes since I started my new job <br>\n",
        "Eliza: Can you tell me about starting your new job? <br>\n",
        "\n",
        "User: hello my name is john <br>\n",
        "Eliza: Hello john, my name is Eliza. How are you feeling today? <br>\n",
        "User: i am feeling pretty happy <br>\n",
        "Eliza: Do you often feel happy? <br>\n",
        "User: yes since I moved house <br>\n",
        "Eliza: Can you tell me about moving house? <br>"
      ]
    },
    {
      "cell_type": "markdown",
      "metadata": {
        "id": "N6DF6FOh3sow"
      },
      "source": [
        "### Reverse engineering the NLTK Eliza\n",
        "\n",
        "There have been many implementations of Eliza over the years. One version is built into the NLTK toolkit. This can be run as follows:\n"
      ]
    },
    {
      "cell_type": "code",
      "execution_count": 45,
      "metadata": {
        "id": "o1fqK44ethJ3"
      },
      "outputs": [],
      "source": [
        "import nltk"
      ]
    },
    {
      "cell_type": "code",
      "execution_count": 77,
      "metadata": {
        "id": "4yOeuTVotfQJ",
        "scrolled": true,
        "colab": {
          "base_uri": "https://localhost:8080/",
          "height": 773
        },
        "outputId": "280e6bd7-15cd-4c62-91cb-3007c27e2189"
      },
      "outputs": [
        {
          "output_type": "stream",
          "name": "stdout",
          "text": [
            "Therapist\n",
            "---------\n",
            "Talk to the program by typing in plain English, using normal upper-\n",
            "and lower-case letters and punctuation.  Enter \"quit\" when done.\n",
            "========================================================================\n",
            "Hello.  How are you feeling today?\n",
            ">I am feeling annoyed\n",
            "How do you feel about being feeling annoyed?\n",
            ">I am feeling annoyed\n",
            "How long have you been feeling annoyed?\n",
            ">For a few hours\n",
            "Why do you say that for a few hours?\n",
            ">For a few hours\n",
            "I see.\n",
            ">For a few hours\n",
            "Can you elaborate on that?\n",
            ">I am feeling sad\n",
            "How do you feel about being feeling sad?\n",
            ">I am feeling sad\n",
            "How do you feel about being feeling sad?\n",
            ">I am feeling sad\n",
            "How do you feel about being feeling sad?\n",
            ">I am feeling annoyed\n",
            "Did you come to me because you are feeling annoyed?\n",
            ">Yes\n",
            "You seem quite sure.\n",
            ">I am sure\n",
            "How do you feel about being sure?\n"
          ]
        },
        {
          "output_type": "error",
          "ename": "KeyboardInterrupt",
          "evalue": "Interrupted by user",
          "traceback": [
            "\u001b[0;31m---------------------------------------------------------------------------\u001b[0m",
            "\u001b[0;31mKeyboardInterrupt\u001b[0m                         Traceback (most recent call last)",
            "\u001b[0;32m<ipython-input-77-07f4760face8>\u001b[0m in \u001b[0;36m<cell line: 0>\u001b[0;34m()\u001b[0m\n\u001b[0;32m----> 1\u001b[0;31m \u001b[0mnltk\u001b[0m\u001b[0;34m.\u001b[0m\u001b[0mchat\u001b[0m\u001b[0;34m.\u001b[0m\u001b[0meliza\u001b[0m\u001b[0;34m.\u001b[0m\u001b[0mdemo\u001b[0m\u001b[0;34m(\u001b[0m\u001b[0;34m)\u001b[0m\u001b[0;34m\u001b[0m\u001b[0;34m\u001b[0m\u001b[0m\n\u001b[0m",
            "\u001b[0;32m/usr/local/lib/python3.11/dist-packages/nltk/chat/eliza.py\u001b[0m in \u001b[0;36mdemo\u001b[0;34m()\u001b[0m\n\u001b[1;32m    331\u001b[0m \u001b[0;34m\u001b[0m\u001b[0m\n\u001b[1;32m    332\u001b[0m \u001b[0;32mdef\u001b[0m \u001b[0mdemo\u001b[0m\u001b[0;34m(\u001b[0m\u001b[0;34m)\u001b[0m\u001b[0;34m:\u001b[0m\u001b[0;34m\u001b[0m\u001b[0;34m\u001b[0m\u001b[0m\n\u001b[0;32m--> 333\u001b[0;31m     \u001b[0meliza_chat\u001b[0m\u001b[0;34m(\u001b[0m\u001b[0;34m)\u001b[0m\u001b[0;34m\u001b[0m\u001b[0;34m\u001b[0m\u001b[0m\n\u001b[0m\u001b[1;32m    334\u001b[0m \u001b[0;34m\u001b[0m\u001b[0m\n\u001b[1;32m    335\u001b[0m \u001b[0;34m\u001b[0m\u001b[0m\n",
            "\u001b[0;32m/usr/local/lib/python3.11/dist-packages/nltk/chat/eliza.py\u001b[0m in \u001b[0;36meliza_chat\u001b[0;34m()\u001b[0m\n\u001b[1;32m    327\u001b[0m     \u001b[0mprint\u001b[0m\u001b[0;34m(\u001b[0m\u001b[0;34m\"Hello.  How are you feeling today?\"\u001b[0m\u001b[0;34m)\u001b[0m\u001b[0;34m\u001b[0m\u001b[0;34m\u001b[0m\u001b[0m\n\u001b[1;32m    328\u001b[0m \u001b[0;34m\u001b[0m\u001b[0m\n\u001b[0;32m--> 329\u001b[0;31m     \u001b[0meliza_chatbot\u001b[0m\u001b[0;34m.\u001b[0m\u001b[0mconverse\u001b[0m\u001b[0;34m(\u001b[0m\u001b[0;34m)\u001b[0m\u001b[0;34m\u001b[0m\u001b[0;34m\u001b[0m\u001b[0m\n\u001b[0m\u001b[1;32m    330\u001b[0m \u001b[0;34m\u001b[0m\u001b[0m\n\u001b[1;32m    331\u001b[0m \u001b[0;34m\u001b[0m\u001b[0m\n",
            "\u001b[0;32m/usr/local/lib/python3.11/dist-packages/nltk/chat/util.py\u001b[0m in \u001b[0;36mconverse\u001b[0;34m(self, quit)\u001b[0m\n\u001b[1;32m    116\u001b[0m             \u001b[0muser_input\u001b[0m \u001b[0;34m=\u001b[0m \u001b[0mquit\u001b[0m\u001b[0;34m\u001b[0m\u001b[0;34m\u001b[0m\u001b[0m\n\u001b[1;32m    117\u001b[0m             \u001b[0;32mtry\u001b[0m\u001b[0;34m:\u001b[0m\u001b[0;34m\u001b[0m\u001b[0;34m\u001b[0m\u001b[0m\n\u001b[0;32m--> 118\u001b[0;31m                 \u001b[0muser_input\u001b[0m \u001b[0;34m=\u001b[0m \u001b[0minput\u001b[0m\u001b[0;34m(\u001b[0m\u001b[0;34m\">\"\u001b[0m\u001b[0;34m)\u001b[0m\u001b[0;34m\u001b[0m\u001b[0;34m\u001b[0m\u001b[0m\n\u001b[0m\u001b[1;32m    119\u001b[0m             \u001b[0;32mexcept\u001b[0m \u001b[0mEOFError\u001b[0m\u001b[0;34m:\u001b[0m\u001b[0;34m\u001b[0m\u001b[0;34m\u001b[0m\u001b[0m\n\u001b[1;32m    120\u001b[0m                 \u001b[0mprint\u001b[0m\u001b[0;34m(\u001b[0m\u001b[0muser_input\u001b[0m\u001b[0;34m)\u001b[0m\u001b[0;34m\u001b[0m\u001b[0;34m\u001b[0m\u001b[0m\n",
            "\u001b[0;32m/usr/local/lib/python3.11/dist-packages/ipykernel/kernelbase.py\u001b[0m in \u001b[0;36mraw_input\u001b[0;34m(self, prompt)\u001b[0m\n\u001b[1;32m   1175\u001b[0m                 \u001b[0;34m\"raw_input was called, but this frontend does not support input requests.\"\u001b[0m\u001b[0;34m\u001b[0m\u001b[0;34m\u001b[0m\u001b[0m\n\u001b[1;32m   1176\u001b[0m             )\n\u001b[0;32m-> 1177\u001b[0;31m         return self._input_request(\n\u001b[0m\u001b[1;32m   1178\u001b[0m             \u001b[0mstr\u001b[0m\u001b[0;34m(\u001b[0m\u001b[0mprompt\u001b[0m\u001b[0;34m)\u001b[0m\u001b[0;34m,\u001b[0m\u001b[0;34m\u001b[0m\u001b[0;34m\u001b[0m\u001b[0m\n\u001b[1;32m   1179\u001b[0m             \u001b[0mself\u001b[0m\u001b[0;34m.\u001b[0m\u001b[0m_parent_ident\u001b[0m\u001b[0;34m[\u001b[0m\u001b[0;34m\"shell\"\u001b[0m\u001b[0;34m]\u001b[0m\u001b[0;34m,\u001b[0m\u001b[0;34m\u001b[0m\u001b[0;34m\u001b[0m\u001b[0m\n",
            "\u001b[0;32m/usr/local/lib/python3.11/dist-packages/ipykernel/kernelbase.py\u001b[0m in \u001b[0;36m_input_request\u001b[0;34m(self, prompt, ident, parent, password)\u001b[0m\n\u001b[1;32m   1217\u001b[0m             \u001b[0;32mexcept\u001b[0m \u001b[0mKeyboardInterrupt\u001b[0m\u001b[0;34m:\u001b[0m\u001b[0;34m\u001b[0m\u001b[0;34m\u001b[0m\u001b[0m\n\u001b[1;32m   1218\u001b[0m                 \u001b[0;31m# re-raise KeyboardInterrupt, to truncate traceback\u001b[0m\u001b[0;34m\u001b[0m\u001b[0;34m\u001b[0m\u001b[0m\n\u001b[0;32m-> 1219\u001b[0;31m                 \u001b[0;32mraise\u001b[0m \u001b[0mKeyboardInterrupt\u001b[0m\u001b[0;34m(\u001b[0m\u001b[0;34m\"Interrupted by user\"\u001b[0m\u001b[0;34m)\u001b[0m \u001b[0;32mfrom\u001b[0m \u001b[0;32mNone\u001b[0m\u001b[0;34m\u001b[0m\u001b[0;34m\u001b[0m\u001b[0m\n\u001b[0m\u001b[1;32m   1220\u001b[0m             \u001b[0;32mexcept\u001b[0m \u001b[0mException\u001b[0m\u001b[0;34m:\u001b[0m\u001b[0;34m\u001b[0m\u001b[0;34m\u001b[0m\u001b[0m\n\u001b[1;32m   1221\u001b[0m                 \u001b[0mself\u001b[0m\u001b[0;34m.\u001b[0m\u001b[0mlog\u001b[0m\u001b[0;34m.\u001b[0m\u001b[0mwarning\u001b[0m\u001b[0;34m(\u001b[0m\u001b[0;34m\"Invalid Message:\"\u001b[0m\u001b[0;34m,\u001b[0m \u001b[0mexc_info\u001b[0m\u001b[0;34m=\u001b[0m\u001b[0;32mTrue\u001b[0m\u001b[0;34m)\u001b[0m\u001b[0;34m\u001b[0m\u001b[0;34m\u001b[0m\u001b[0m\n",
            "\u001b[0;31mKeyboardInterrupt\u001b[0m: Interrupted by user"
          ]
        }
      ],
      "source": [
        "nltk.chat.eliza.demo()"
      ]
    },
    {
      "cell_type": "markdown",
      "metadata": {
        "id": "5nh04AqY3sox"
      },
      "source": [
        "Activity: Conduct a four-turn-each conversation of your own with the NLTK Eliza. Adds the substitution that you think Eliza is using to generate the responses to your own chatbot using the code below. Where you find Eliza's response to be lacking, update the substitution to give a better response."
      ]
    },
    {
      "cell_type": "code",
      "execution_count": 89,
      "metadata": {
        "tags": [],
        "id": "8ztFBkZj3soy"
      },
      "outputs": [],
      "source": [
        "def respond(utt):\n",
        "  utt = re.sub('hello my name is (.+)','Hello \\\\1, my name is Eliza. How are you feeling today?', utt)\n",
        "  utt = re.sub('[i|I] am feeling ([^.|?|!]+)[.|?|!]*', 'How long have you been feeling \\\\1?', utt)\n",
        "  utt = re.sub('([F|f])(or .+)','Why do you say that f\\\\2?',utt)\n",
        "  utt = re.sub('I am (.+)', 'How do you feel about being \\\\1?',utt)\n",
        "  return utt"
      ]
    },
    {
      "cell_type": "code",
      "execution_count": 91,
      "metadata": {
        "id": "Ftc0J9In3soy",
        "colab": {
          "base_uri": "https://localhost:8080/"
        },
        "outputId": "42c630cd-bf0b-48f6-ef59-010f19458b26"
      },
      "outputs": [
        {
          "name": "stdout",
          "output_type": "stream",
          "text": [
            "> hello my name is cassie\n",
            "Hello cassie, my name is Eliza. How are you feeling today?\n",
            "> I am feeling annoyed\n",
            "How long have you been feeling annoyed?\n",
            "> For a few hours\n",
            "Why do you say that for a few hours?\n",
            "> I don't know\n",
            "Can you elaborate on that?\n",
            "> goodbye\n"
          ]
        }
      ],
      "source": [
        "utt = \"\"\n",
        "while utt != 'goodbye':\n",
        "    utt = input('> ')\n",
        "    reply = respond(utt)\n",
        "    if reply != utt:\n",
        "        print(reply)\n",
        "    else:\n",
        "        if utt != \"goodbye\":\n",
        "            print(\"Can you elaborate on that?\")"
      ]
    },
    {
      "cell_type": "markdown",
      "metadata": {
        "id": "TIDS4M25uKXP"
      },
      "source": [
        "## Corpus-based chatbots"
      ]
    },
    {
      "cell_type": "markdown",
      "metadata": {
        "id": "yIUnZjlxsUj1"
      },
      "source": [
        "Training and running a corpus-based chatbot takes more steps than we have time for today. If you want to have a go in your own time, then you will find a tutorial for doing so in Pytorch here:\n",
        "\n",
        "https://pytorch.org/tutorials/beginner/chatbot_tutorial.html\n",
        "\n",
        "There is a link at the top of the page to open the notebook in Colab.\n",
        "\n",
        "To run this in colab easily just put the following code block at the top and run it before working through the rest of the notebook."
      ]
    },
    {
      "cell_type": "code",
      "execution_count": 92,
      "metadata": {
        "id": "Kg6znOWd3so1",
        "colab": {
          "base_uri": "https://localhost:8080/"
        },
        "outputId": "553bf67f-79a3-496c-fcf8-35d42af7da4d"
      },
      "outputs": [
        {
          "output_type": "stream",
          "name": "stdout",
          "text": [
            "--2025-03-10 17:13:05--  https://zissou.infosci.cornell.edu/convokit/datasets/movie-corpus/movie-corpus.zip\n",
            "Resolving zissou.infosci.cornell.edu (zissou.infosci.cornell.edu)... 128.253.51.179\n",
            "Connecting to zissou.infosci.cornell.edu (zissou.infosci.cornell.edu)|128.253.51.179|:443... connected.\n",
            "HTTP request sent, awaiting response... 200 OK\n",
            "Length: 40854701 (39M) [application/zip]\n",
            "Saving to: ‘movie-corpus.zip’\n",
            "\n",
            "movie-corpus.zip    100%[===================>]  38.96M   115MB/s    in 0.3s    \n",
            "\n",
            "2025-03-10 17:13:06 (115 MB/s) - ‘movie-corpus.zip’ saved [40854701/40854701]\n",
            "\n",
            "Archive:  movie-corpus.zip\n",
            "   creating: movie-corpus/\n",
            "  inflating: movie-corpus/utterances.jsonl  \n",
            "  inflating: movie-corpus/conversations.json  \n",
            "  inflating: movie-corpus/corpus.json  \n",
            "  inflating: movie-corpus/speakers.json  \n",
            "  inflating: movie-corpus/index.json  \n"
          ]
        }
      ],
      "source": [
        "! wget https://zissou.infosci.cornell.edu/convokit/datasets/movie-corpus/movie-corpus.zip\n",
        "! unzip movie-corpus.zip\n",
        "! mkdir data\n",
        "! mv movie-corpus data/"
      ]
    },
    {
      "cell_type": "markdown",
      "source": [
        "### Intent classification\n",
        "We are now going to at task-based dialogue systems and specifically the sub-task of intent classification (the focus of your coursework). You should write rules to uniquely and correctly identify each of the following utterances:"
      ],
      "metadata": {
        "id": "2WSo1COJHO-l"
      }
    },
    {
      "cell_type": "markdown",
      "source": [
        "PlayMusic: play the weather girls\n",
        "\n",
        "AddToPlaylist: add this to my italian film soundtrack playlist\n",
        "\n",
        "RateBook: give the restaurant guidebook 5 stars\n",
        "\n",
        "SearchScreeningEvent: find screenings of the book thief at around 7\n",
        "\n",
        "BookRestaurant: book me a table outside for 2 for dinner at the national theatre restaurant\n",
        "\n",
        "GetWeather: will it be warm enough to eat dinner outside at around 7 tonight\n",
        "\n",
        "SearchCreativeWork: find me songs films or books about restaurants\n",
        "\n",
        "Here is the function from your coursework notebook:"
      ],
      "metadata": {
        "id": "Dfwl8dEmHmfv"
      }
    },
    {
      "cell_type": "code",
      "source": [
        "import random\n",
        "\n",
        "def assign_intent(utt, verbose=False):\n",
        "  PlayMusic_Pattern = re.compile(\"play|music|song|album\")\n",
        "  AddToPlaylist_Pattern = re.compile(\"add|playlist\")\n",
        "  RateBook_Pattern = re.compile(\"rate|book|novel|star|give\")\n",
        "  SearchScreeningEvent_Pattern = re.compile(\"screening|find\")\n",
        "  BookRestaurant_Pattern = re.compile(\"^book|restaurant|food|table|dinner|lunch|meal\")\n",
        "  GetWeather_Pattern = re.compile(\"get|weather (on|in)|warm|hot|cold|cool|outside\")\n",
        "  SearchCreativeWork_Pattern = re.compile(\"creative|find|about|songs?|films?|books?\")\n",
        "\n",
        "  weights = {}\n",
        "  weights['PlayMusic'] = len(re.findall(PlayMusic_Pattern,  utt))\n",
        "  weights['AddToPlaylist'] = len(re.findall(AddToPlaylist_Pattern,  utt))\n",
        "  weights['RateBook'] = len(re.findall(RateBook_Pattern,  utt))\n",
        "  weights['SearchScreeningEvent'] = len(re.findall(SearchScreeningEvent_Pattern,  utt))\n",
        "  weights['BookRestaurant'] = len(re.findall(BookRestaurant_Pattern,  utt))\n",
        "  weights['GetWeather'] = len(re.findall(GetWeather_Pattern,  utt))\n",
        "  weights['SearchCreativeWork'] = len(re.findall(SearchCreativeWork_Pattern,  utt))\n",
        "  if verbose:\n",
        "      print(weights)\n",
        "  if max(weights.values()) == 0:\n",
        "      return random.choice(list(weights.keys()))\n",
        "  else:\n",
        "      weights_as_list = list(weights.items())\n",
        "      random.shuffle(weights_as_list)\n",
        "      weights=dict(weights_as_list)\n",
        "      return max(weights, key=lambda key: weights[key])"
      ],
      "metadata": {
        "id": "N9RtO7-2Ht-U"
      },
      "execution_count": 128,
      "outputs": []
    },
    {
      "cell_type": "code",
      "source": [
        "example_inputs = ['play the weather girls','add this to my italian film soundtrack playlist','give the restaurant guidebook 5 stars','find screenings of the book thief at around 7','book me a table outside for 2 for dinner at the national theatre restaurant','will it be warm enough to eat dinner outside at around 7 tonight','find me songs films or books about restaurants']\n",
        "[print(str(assign_intent(utt)) + \" : \" + utt) for utt in example_inputs]"
      ],
      "metadata": {
        "id": "QwEtGrEWHs10",
        "colab": {
          "base_uri": "https://localhost:8080/"
        },
        "outputId": "73bdc59d-9095-4656-9151-c0c4a5a4b735"
      },
      "execution_count": 126,
      "outputs": [
        {
          "output_type": "stream",
          "name": "stdout",
          "text": [
            "PlayMusic : play the weather girls\n",
            "AddToPlaylist : add this to my italian film soundtrack playlist\n",
            "RateBook : give the restaurant guidebook 5 stars\n",
            "SearchScreeningEvent : find screenings of the book thief at around 7\n",
            "BookRestaurant : book me a table outside for 2 for dinner at the national theatre restaurant\n",
            "GetWeather : will it be warm enough to eat dinner outside at around 7 tonight\n",
            "SearchCreativeWork : find me songs films or books about restaurants\n"
          ]
        },
        {
          "output_type": "execute_result",
          "data": {
            "text/plain": [
              "[None, None, None, None, None, None, None]"
            ]
          },
          "metadata": {},
          "execution_count": 126
        }
      ]
    }
  ],
  "metadata": {
    "colab": {
      "name": "Week_7_Seminar.ipynb",
      "provenance": [],
      "include_colab_link": true
    },
    "kernelspec": {
      "display_name": "Python 3 (ipykernel)",
      "language": "python",
      "name": "python3"
    },
    "language_info": {
      "codemirror_mode": {
        "name": "ipython",
        "version": 3
      },
      "file_extension": ".py",
      "mimetype": "text/x-python",
      "name": "python",
      "nbconvert_exporter": "python",
      "pygments_lexer": "ipython3",
      "version": "3.9.12"
    }
  },
  "nbformat": 4,
  "nbformat_minor": 0
}